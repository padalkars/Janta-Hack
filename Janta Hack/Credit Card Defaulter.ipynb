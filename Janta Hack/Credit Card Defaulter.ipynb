{
 "cells": [
  {
   "cell_type": "code",
   "execution_count": 1,
   "metadata": {},
   "outputs": [],
   "source": [
    "#Import the necessary libraries\n",
    "import pandas as pd\n",
    "import numpy as np\n",
    "import matplotlib.pyplot as plt"
   ]
  },
  {
   "cell_type": "code",
   "execution_count": 2,
   "metadata": {},
   "outputs": [],
   "source": [
    "import os\n",
    "import joblib\n",
    "\n",
    "#This file contains the commonly used functions\n",
    "import utility_functions as uf\n",
    "from collections import Counter\n",
    "\n",
    "#WOE Binning\n",
    "import WOE_IV as woe"
   ]
  },
  {
   "cell_type": "code",
   "execution_count": 3,
   "metadata": {},
   "outputs": [],
   "source": [
    "#ML Algorithms\n",
    "from sklearn.linear_model import LogisticRegression as LoR\n",
    "\n",
    "#Evaluation Metrics\n",
    "from sklearn.metrics import roc_curve, roc_auc_score\n",
    "from sklearn.metrics import confusion_matrix, f1_score"
   ]
  },
  {
   "cell_type": "code",
   "execution_count": 4,
   "metadata": {},
   "outputs": [],
   "source": [
    "from sklearn.model_selection import train_test_split"
   ]
  },
  {
   "cell_type": "code",
   "execution_count": 5,
   "metadata": {},
   "outputs": [
    {
     "data": {
      "text/plain": [
       "'/home/shrikrishna/Documents/Janta Hack'"
      ]
     },
     "execution_count": 5,
     "metadata": {},
     "output_type": "execute_result"
    }
   ],
   "source": [
    "os.getcwd()"
   ]
  },
  {
   "cell_type": "code",
   "execution_count": 7,
   "metadata": {},
   "outputs": [],
   "source": [
    "#Load the data files\n",
    "train_data, test_data = list(map(pd.read_csv,\\\n",
    "                                 ['train_20D8GL3.csv', 'test_O6kKpvt.csv']))"
   ]
  },
  {
   "cell_type": "code",
   "execution_count": 8,
   "metadata": {},
   "outputs": [
    {
     "name": "stdout",
     "output_type": "stream",
     "text": [
      "Train Shape:- (21000, 25)\n",
      "Test Shape: (9000, 24)\n"
     ]
    }
   ],
   "source": [
    "print(\"Train Shape:- {}\" .format(train_data.shape))\n",
    "print(\"Test Shape: {}\" .format(test_data.shape))"
   ]
  },
  {
   "cell_type": "code",
   "execution_count": 9,
   "metadata": {
    "scrolled": false
   },
   "outputs": [
    {
     "data": {
      "text/html": [
       "<div>\n",
       "<style scoped>\n",
       "    .dataframe tbody tr th:only-of-type {\n",
       "        vertical-align: middle;\n",
       "    }\n",
       "\n",
       "    .dataframe tbody tr th {\n",
       "        vertical-align: top;\n",
       "    }\n",
       "\n",
       "    .dataframe thead th {\n",
       "        text-align: right;\n",
       "    }\n",
       "</style>\n",
       "<table border=\"1\" class=\"dataframe\">\n",
       "  <thead>\n",
       "    <tr style=\"text-align: right;\">\n",
       "      <th></th>\n",
       "      <th>ID</th>\n",
       "      <th>LIMIT_BAL</th>\n",
       "      <th>SEX</th>\n",
       "      <th>EDUCATION</th>\n",
       "      <th>MARRIAGE</th>\n",
       "      <th>AGE</th>\n",
       "      <th>PAY_0</th>\n",
       "      <th>PAY_2</th>\n",
       "      <th>PAY_3</th>\n",
       "      <th>PAY_4</th>\n",
       "      <th>...</th>\n",
       "      <th>BILL_AMT4</th>\n",
       "      <th>BILL_AMT5</th>\n",
       "      <th>BILL_AMT6</th>\n",
       "      <th>PAY_AMT1</th>\n",
       "      <th>PAY_AMT2</th>\n",
       "      <th>PAY_AMT3</th>\n",
       "      <th>PAY_AMT4</th>\n",
       "      <th>PAY_AMT5</th>\n",
       "      <th>PAY_AMT6</th>\n",
       "      <th>default_payment_next_month</th>\n",
       "    </tr>\n",
       "  </thead>\n",
       "  <tbody>\n",
       "    <tr>\n",
       "      <th>0</th>\n",
       "      <td>25150</td>\n",
       "      <td>360000</td>\n",
       "      <td>2</td>\n",
       "      <td>2</td>\n",
       "      <td>2</td>\n",
       "      <td>25</td>\n",
       "      <td>-1</td>\n",
       "      <td>-1</td>\n",
       "      <td>-1</td>\n",
       "      <td>-1</td>\n",
       "      <td>...</td>\n",
       "      <td>3435</td>\n",
       "      <td>8870</td>\n",
       "      <td>2020</td>\n",
       "      <td>12590</td>\n",
       "      <td>3479</td>\n",
       "      <td>3446</td>\n",
       "      <td>8870</td>\n",
       "      <td>2020</td>\n",
       "      <td>27043</td>\n",
       "      <td>0</td>\n",
       "    </tr>\n",
       "    <tr>\n",
       "      <th>1</th>\n",
       "      <td>13470</td>\n",
       "      <td>240000</td>\n",
       "      <td>2</td>\n",
       "      <td>1</td>\n",
       "      <td>2</td>\n",
       "      <td>46</td>\n",
       "      <td>2</td>\n",
       "      <td>2</td>\n",
       "      <td>-2</td>\n",
       "      <td>-1</td>\n",
       "      <td>...</td>\n",
       "      <td>2240</td>\n",
       "      <td>1681</td>\n",
       "      <td>2267</td>\n",
       "      <td>0</td>\n",
       "      <td>0</td>\n",
       "      <td>2240</td>\n",
       "      <td>0</td>\n",
       "      <td>2267</td>\n",
       "      <td>3074</td>\n",
       "      <td>0</td>\n",
       "    </tr>\n",
       "    <tr>\n",
       "      <th>2</th>\n",
       "      <td>3092</td>\n",
       "      <td>320000</td>\n",
       "      <td>2</td>\n",
       "      <td>2</td>\n",
       "      <td>1</td>\n",
       "      <td>41</td>\n",
       "      <td>0</td>\n",
       "      <td>0</td>\n",
       "      <td>0</td>\n",
       "      <td>0</td>\n",
       "      <td>...</td>\n",
       "      <td>35409</td>\n",
       "      <td>35036</td>\n",
       "      <td>35939</td>\n",
       "      <td>5000</td>\n",
       "      <td>2000</td>\n",
       "      <td>2000</td>\n",
       "      <td>3000</td>\n",
       "      <td>3000</td>\n",
       "      <td>1500</td>\n",
       "      <td>0</td>\n",
       "    </tr>\n",
       "    <tr>\n",
       "      <th>3</th>\n",
       "      <td>13973</td>\n",
       "      <td>50000</td>\n",
       "      <td>2</td>\n",
       "      <td>2</td>\n",
       "      <td>2</td>\n",
       "      <td>24</td>\n",
       "      <td>-1</td>\n",
       "      <td>-1</td>\n",
       "      <td>-2</td>\n",
       "      <td>-2</td>\n",
       "      <td>...</td>\n",
       "      <td>0</td>\n",
       "      <td>0</td>\n",
       "      <td>0</td>\n",
       "      <td>0</td>\n",
       "      <td>0</td>\n",
       "      <td>0</td>\n",
       "      <td>0</td>\n",
       "      <td>0</td>\n",
       "      <td>0</td>\n",
       "      <td>1</td>\n",
       "    </tr>\n",
       "    <tr>\n",
       "      <th>4</th>\n",
       "      <td>10567</td>\n",
       "      <td>80000</td>\n",
       "      <td>1</td>\n",
       "      <td>3</td>\n",
       "      <td>1</td>\n",
       "      <td>52</td>\n",
       "      <td>-1</td>\n",
       "      <td>0</td>\n",
       "      <td>0</td>\n",
       "      <td>0</td>\n",
       "      <td>...</td>\n",
       "      <td>20561</td>\n",
       "      <td>21261</td>\n",
       "      <td>21457</td>\n",
       "      <td>1500</td>\n",
       "      <td>1500</td>\n",
       "      <td>1500</td>\n",
       "      <td>1028</td>\n",
       "      <td>876</td>\n",
       "      <td>1449</td>\n",
       "      <td>0</td>\n",
       "    </tr>\n",
       "  </tbody>\n",
       "</table>\n",
       "<p>5 rows × 25 columns</p>\n",
       "</div>"
      ],
      "text/plain": [
       "      ID  LIMIT_BAL  SEX  EDUCATION  MARRIAGE  AGE  PAY_0  PAY_2  PAY_3  \\\n",
       "0  25150     360000    2          2         2   25     -1     -1     -1   \n",
       "1  13470     240000    2          1         2   46      2      2     -2   \n",
       "2   3092     320000    2          2         1   41      0      0      0   \n",
       "3  13973      50000    2          2         2   24     -1     -1     -2   \n",
       "4  10567      80000    1          3         1   52     -1      0      0   \n",
       "\n",
       "   PAY_4  ...  BILL_AMT4  BILL_AMT5  BILL_AMT6  PAY_AMT1  PAY_AMT2  PAY_AMT3  \\\n",
       "0     -1  ...       3435       8870       2020     12590      3479      3446   \n",
       "1     -1  ...       2240       1681       2267         0         0      2240   \n",
       "2      0  ...      35409      35036      35939      5000      2000      2000   \n",
       "3     -2  ...          0          0          0         0         0         0   \n",
       "4      0  ...      20561      21261      21457      1500      1500      1500   \n",
       "\n",
       "   PAY_AMT4  PAY_AMT5  PAY_AMT6  default_payment_next_month  \n",
       "0      8870      2020     27043                           0  \n",
       "1         0      2267      3074                           0  \n",
       "2      3000      3000      1500                           0  \n",
       "3         0         0         0                           1  \n",
       "4      1028       876      1449                           0  \n",
       "\n",
       "[5 rows x 25 columns]"
      ]
     },
     "execution_count": 9,
     "metadata": {},
     "output_type": "execute_result"
    }
   ],
   "source": [
    "train_data.head()"
   ]
  },
  {
   "cell_type": "code",
   "execution_count": 10,
   "metadata": {},
   "outputs": [
    {
     "data": {
      "text/plain": [
       "'default_payment_next_month'"
      ]
     },
     "execution_count": 10,
     "metadata": {},
     "output_type": "execute_result"
    }
   ],
   "source": [
    "target = 'default_payment_next_month'\n",
    "target"
   ]
  },
  {
   "cell_type": "markdown",
   "metadata": {},
   "source": [
    "\n",
    "## Missing Value Stats"
   ]
  },
  {
   "cell_type": "code",
   "execution_count": 11,
   "metadata": {},
   "outputs": [
    {
     "name": "stdout",
     "output_type": "stream",
     "text": [
      "Help on function find_missing in module utility_functions:\n",
      "\n",
      "find_missing(data)\n",
      "    #Missing Value Analysis\n",
      "\n"
     ]
    }
   ],
   "source": [
    "help(uf.find_missing)"
   ]
  },
  {
   "cell_type": "code",
   "execution_count": 12,
   "metadata": {},
   "outputs": [
    {
     "data": {
      "text/html": [
       "<div>\n",
       "<style scoped>\n",
       "    .dataframe tbody tr th:only-of-type {\n",
       "        vertical-align: middle;\n",
       "    }\n",
       "\n",
       "    .dataframe tbody tr th {\n",
       "        vertical-align: top;\n",
       "    }\n",
       "\n",
       "    .dataframe thead th {\n",
       "        text-align: right;\n",
       "    }\n",
       "</style>\n",
       "<table border=\"1\" class=\"dataframe\">\n",
       "  <thead>\n",
       "    <tr style=\"text-align: right;\">\n",
       "      <th></th>\n",
       "      <th>Missing Count</th>\n",
       "      <th>Missing Percentage</th>\n",
       "    </tr>\n",
       "    <tr>\n",
       "      <th>Features</th>\n",
       "      <th></th>\n",
       "      <th></th>\n",
       "    </tr>\n",
       "  </thead>\n",
       "  <tbody>\n",
       "    <tr>\n",
       "      <th>ID</th>\n",
       "      <td>0</td>\n",
       "      <td>0.0</td>\n",
       "    </tr>\n",
       "    <tr>\n",
       "      <th>BILL_AMT2</th>\n",
       "      <td>0</td>\n",
       "      <td>0.0</td>\n",
       "    </tr>\n",
       "    <tr>\n",
       "      <th>PAY_AMT6</th>\n",
       "      <td>0</td>\n",
       "      <td>0.0</td>\n",
       "    </tr>\n",
       "    <tr>\n",
       "      <th>PAY_AMT5</th>\n",
       "      <td>0</td>\n",
       "      <td>0.0</td>\n",
       "    </tr>\n",
       "    <tr>\n",
       "      <th>PAY_AMT4</th>\n",
       "      <td>0</td>\n",
       "      <td>0.0</td>\n",
       "    </tr>\n",
       "  </tbody>\n",
       "</table>\n",
       "</div>"
      ],
      "text/plain": [
       "           Missing Count  Missing Percentage\n",
       "Features                                    \n",
       "ID                     0                 0.0\n",
       "BILL_AMT2              0                 0.0\n",
       "PAY_AMT6               0                 0.0\n",
       "PAY_AMT5               0                 0.0\n",
       "PAY_AMT4               0                 0.0"
      ]
     },
     "execution_count": 12,
     "metadata": {},
     "output_type": "execute_result"
    }
   ],
   "source": [
    "missing_data_stats = uf.find_missing(train_data)\n",
    "missing_data_stats.head()\n"
   ]
  },
  {
   "cell_type": "markdown",
   "metadata": {},
   "source": [
    "## Categorical Variables"
   ]
  },
  {
   "cell_type": "code",
   "execution_count": 13,
   "metadata": {},
   "outputs": [
    {
     "name": "stdout",
     "output_type": "stream",
     "text": [
      "Unique Values:\n",
      "SEX:\t[1 2]\n",
      "MARRIAGE:\t[0 1 2 3]\n",
      "EDUCATION:\t[0 1 2 3 4 5 6]\n"
     ]
    }
   ],
   "source": [
    "#Unique categories of a categorical variable\n",
    "print('Unique Values:')\n",
    "for var in ['SEX', 'MARRIAGE', 'EDUCATION']:\n",
    "    \n",
    "    print(var + \":\\t\" + str(np.unique(train_data[var])))"
   ]
  },
  {
   "cell_type": "code",
   "execution_count": 14,
   "metadata": {},
   "outputs": [],
   "source": [
    "#Convert the categorical columns represented in number format\n",
    "#to original level\n",
    "\n",
    "'''\n",
    "EDUCATION ----> (1=graduate school, 2=university,\n",
    "                 3=high school, 4=others, 5=unknown, 6=unknown)\n",
    "'''\n",
    "sex_map = {1: 'Male', 2: 'Female'}\n",
    "marriage_map = {0: 'Unknown', 1: 'Married', 2: 'Single', 3: 'Divorced'}\n",
    "education_map = {0: 'Unknown', 1: 'graduate_school', 2: 'university',\\\n",
    "                3: 'high_school', 4: 'others', 5: 'UNK_1',\\\n",
    "                6: 'UNK_2'}\n",
    "target_map = {1: 'Yes', 0: 'No'}"
   ]
  },
  {
   "cell_type": "code",
   "execution_count": 15,
   "metadata": {},
   "outputs": [],
   "source": [
    "def mapping_levels(data):\n",
    "    data['SEX_decoded'] = data['SEX'].map(sex_map)\n",
    "    data['MARRIAGE_decoded'] = data['MARRIAGE'].map(marriage_map)\n",
    "    data['EDUCATION_decoded'] = data['EDUCATION'].map(education_map)"
   ]
  },
  {
   "cell_type": "code",
   "execution_count": 16,
   "metadata": {},
   "outputs": [
    {
     "data": {
      "text/plain": [
       "[None, None]"
      ]
     },
     "execution_count": 16,
     "metadata": {},
     "output_type": "execute_result"
    }
   ],
   "source": [
    "#Apply the mapping on both the training and test data\n",
    "list(map(mapping_levels, [train_data, test_data]))"
   ]
  },
  {
   "cell_type": "code",
   "execution_count": 17,
   "metadata": {},
   "outputs": [
    {
     "data": {
      "text/html": [
       "<div>\n",
       "<style scoped>\n",
       "    .dataframe tbody tr th:only-of-type {\n",
       "        vertical-align: middle;\n",
       "    }\n",
       "\n",
       "    .dataframe tbody tr th {\n",
       "        vertical-align: top;\n",
       "    }\n",
       "\n",
       "    .dataframe thead th {\n",
       "        text-align: right;\n",
       "    }\n",
       "</style>\n",
       "<table border=\"1\" class=\"dataframe\">\n",
       "  <thead>\n",
       "    <tr style=\"text-align: right;\">\n",
       "      <th></th>\n",
       "      <th>SEX_decoded</th>\n",
       "      <th>MARRIAGE_decoded</th>\n",
       "      <th>EDUCATION_decoded</th>\n",
       "    </tr>\n",
       "  </thead>\n",
       "  <tbody>\n",
       "    <tr>\n",
       "      <th>0</th>\n",
       "      <td>Female</td>\n",
       "      <td>Single</td>\n",
       "      <td>university</td>\n",
       "    </tr>\n",
       "    <tr>\n",
       "      <th>1</th>\n",
       "      <td>Female</td>\n",
       "      <td>Single</td>\n",
       "      <td>graduate_school</td>\n",
       "    </tr>\n",
       "    <tr>\n",
       "      <th>2</th>\n",
       "      <td>Female</td>\n",
       "      <td>Married</td>\n",
       "      <td>university</td>\n",
       "    </tr>\n",
       "    <tr>\n",
       "      <th>3</th>\n",
       "      <td>Female</td>\n",
       "      <td>Single</td>\n",
       "      <td>university</td>\n",
       "    </tr>\n",
       "    <tr>\n",
       "      <th>4</th>\n",
       "      <td>Male</td>\n",
       "      <td>Married</td>\n",
       "      <td>high_school</td>\n",
       "    </tr>\n",
       "  </tbody>\n",
       "</table>\n",
       "</div>"
      ],
      "text/plain": [
       "  SEX_decoded MARRIAGE_decoded EDUCATION_decoded\n",
       "0      Female           Single        university\n",
       "1      Female           Single   graduate_school\n",
       "2      Female          Married        university\n",
       "3      Female           Single        university\n",
       "4        Male          Married       high_school"
      ]
     },
     "execution_count": 17,
     "metadata": {},
     "output_type": "execute_result"
    }
   ],
   "source": [
    "train_data[['SEX_decoded', 'MARRIAGE_decoded', 'EDUCATION_decoded']].head()"
   ]
  },
  {
   "cell_type": "code",
   "execution_count": 18,
   "metadata": {},
   "outputs": [
    {
     "data": {
      "text/html": [
       "<div>\n",
       "<style scoped>\n",
       "    .dataframe tbody tr th:only-of-type {\n",
       "        vertical-align: middle;\n",
       "    }\n",
       "\n",
       "    .dataframe tbody tr th {\n",
       "        vertical-align: top;\n",
       "    }\n",
       "\n",
       "    .dataframe thead th {\n",
       "        text-align: right;\n",
       "    }\n",
       "</style>\n",
       "<table border=\"1\" class=\"dataframe\">\n",
       "  <thead>\n",
       "    <tr style=\"text-align: right;\">\n",
       "      <th></th>\n",
       "      <th>SEX_decoded</th>\n",
       "      <th>MARRIAGE_decoded</th>\n",
       "      <th>EDUCATION_decoded</th>\n",
       "    </tr>\n",
       "  </thead>\n",
       "  <tbody>\n",
       "    <tr>\n",
       "      <th>0</th>\n",
       "      <td>Female</td>\n",
       "      <td>Married</td>\n",
       "      <td>university</td>\n",
       "    </tr>\n",
       "    <tr>\n",
       "      <th>1</th>\n",
       "      <td>Female</td>\n",
       "      <td>Single</td>\n",
       "      <td>graduate_school</td>\n",
       "    </tr>\n",
       "    <tr>\n",
       "      <th>2</th>\n",
       "      <td>Male</td>\n",
       "      <td>Single</td>\n",
       "      <td>graduate_school</td>\n",
       "    </tr>\n",
       "    <tr>\n",
       "      <th>3</th>\n",
       "      <td>Male</td>\n",
       "      <td>Single</td>\n",
       "      <td>graduate_school</td>\n",
       "    </tr>\n",
       "    <tr>\n",
       "      <th>4</th>\n",
       "      <td>Male</td>\n",
       "      <td>Single</td>\n",
       "      <td>university</td>\n",
       "    </tr>\n",
       "  </tbody>\n",
       "</table>\n",
       "</div>"
      ],
      "text/plain": [
       "  SEX_decoded MARRIAGE_decoded EDUCATION_decoded\n",
       "0      Female          Married        university\n",
       "1      Female           Single   graduate_school\n",
       "2        Male           Single   graduate_school\n",
       "3        Male           Single   graduate_school\n",
       "4        Male           Single        university"
      ]
     },
     "execution_count": 18,
     "metadata": {},
     "output_type": "execute_result"
    }
   ],
   "source": [
    "test_data[['SEX_decoded', 'MARRIAGE_decoded', 'EDUCATION_decoded']].head()"
   ]
  },
  {
   "cell_type": "code",
   "execution_count": 19,
   "metadata": {},
   "outputs": [],
   "source": [
    "#Create a data frame of data types\n",
    "#The data types are already stores in variables above\n",
    "\n",
    "def create_data_type_df(data = train_data):\n",
    "    data_type_df = pd.DataFrame()\n",
    "    \n",
    "    #Columns\n",
    "    variables = data.columns.tolist()\n",
    "    data_types = []\n",
    "    \n",
    "    for var in variables:\n",
    "        if(var in integer_cols):\n",
    "            data_types.append('Integer')\n",
    "        elif(var in categorical_cols):\n",
    "            data_types.append('Categorical')\n",
    "        elif(var in float_cols):\n",
    "            data_types.append('FLoat')\n",
    "        else:\n",
    "            data_types.append('Other')\n",
    "    \n",
    "    #Fill the data frame\n",
    "    data_type_df['Variables'] = variables \n",
    "    data_type_df['Data Types'] = data_types\n",
    "\n",
    "    return data_type_df"
   ]
  },
  {
   "cell_type": "markdown",
   "metadata": {},
   "source": [
    "## Rename the Bills and Payment columns Month-wise\n",
    "\n",
    "BILL_AMT2 ---> BILL for August Month\n",
    "\n",
    "PAY_AMT1 ----> August's Payment in September\n"
   ]
  },
  {
   "cell_type": "code",
   "execution_count": 20,
   "metadata": {},
   "outputs": [
    {
     "data": {
      "text/html": [
       "<div>\n",
       "<style scoped>\n",
       "    .dataframe tbody tr th:only-of-type {\n",
       "        vertical-align: middle;\n",
       "    }\n",
       "\n",
       "    .dataframe tbody tr th {\n",
       "        vertical-align: top;\n",
       "    }\n",
       "\n",
       "    .dataframe thead th {\n",
       "        text-align: right;\n",
       "    }\n",
       "</style>\n",
       "<table border=\"1\" class=\"dataframe\">\n",
       "  <thead>\n",
       "    <tr style=\"text-align: right;\">\n",
       "      <th></th>\n",
       "      <th>PAY_AMT5</th>\n",
       "      <th>BILL_AMT6</th>\n",
       "    </tr>\n",
       "  </thead>\n",
       "  <tbody>\n",
       "    <tr>\n",
       "      <th>0</th>\n",
       "      <td>2020</td>\n",
       "      <td>2020</td>\n",
       "    </tr>\n",
       "    <tr>\n",
       "      <th>1</th>\n",
       "      <td>2267</td>\n",
       "      <td>2267</td>\n",
       "    </tr>\n",
       "    <tr>\n",
       "      <th>2</th>\n",
       "      <td>3000</td>\n",
       "      <td>35939</td>\n",
       "    </tr>\n",
       "    <tr>\n",
       "      <th>3</th>\n",
       "      <td>0</td>\n",
       "      <td>0</td>\n",
       "    </tr>\n",
       "    <tr>\n",
       "      <th>4</th>\n",
       "      <td>876</td>\n",
       "      <td>21457</td>\n",
       "    </tr>\n",
       "  </tbody>\n",
       "</table>\n",
       "</div>"
      ],
      "text/plain": [
       "   PAY_AMT5  BILL_AMT6\n",
       "0      2020       2020\n",
       "1      2267       2267\n",
       "2      3000      35939\n",
       "3         0          0\n",
       "4       876      21457"
      ]
     },
     "execution_count": 20,
     "metadata": {},
     "output_type": "execute_result"
    }
   ],
   "source": [
    "#April's Bill Amount and Payment Amount\n",
    "train_data[['PAY_AMT5', 'BILL_AMT6']].head()"
   ]
  },
  {
   "cell_type": "code",
   "execution_count": 21,
   "metadata": {},
   "outputs": [
    {
     "data": {
      "text/plain": [
       "['BILL_AMT2',\n",
       " 'PAY_AMT1',\n",
       " 'PAY_0',\n",
       " 'BILL_AMT3',\n",
       " 'PAY_AMT2',\n",
       " 'PAY_2',\n",
       " 'BILL_AMT4',\n",
       " 'PAY_AMT3',\n",
       " 'PAY_3',\n",
       " 'BILL_AMT5',\n",
       " 'PAY_AMT4',\n",
       " 'PAY_4',\n",
       " 'BILL_AMT6',\n",
       " 'PAY_AMT5',\n",
       " 'PAY_5']"
      ]
     },
     "execution_count": 21,
     "metadata": {},
     "output_type": "execute_result"
    }
   ],
   "source": [
    "#Create a list of n_th payment and (n+1)_th Bill\n",
    "pay_bill_list = []\n",
    "for i in range(1, 6):\n",
    "    if(i==1):\n",
    "        pay_bill_list += ['BILL_AMT' + str(i+1), 'PAY_AMT' + str(i), \\\n",
    "                     'PAY_' + str(i-1)]\n",
    "        continue\n",
    "    pay_bill_list += ['BILL_AMT' + str(i+1), 'PAY_AMT' + str(i), \\\n",
    "                     'PAY_' + str(i)]\n",
    "    \n",
    "pay_bill_list"
   ]
  },
  {
   "cell_type": "code",
   "execution_count": 22,
   "metadata": {},
   "outputs": [
    {
     "data": {
      "text/html": [
       "<div>\n",
       "<style scoped>\n",
       "    .dataframe tbody tr th:only-of-type {\n",
       "        vertical-align: middle;\n",
       "    }\n",
       "\n",
       "    .dataframe tbody tr th {\n",
       "        vertical-align: top;\n",
       "    }\n",
       "\n",
       "    .dataframe thead th {\n",
       "        text-align: right;\n",
       "    }\n",
       "</style>\n",
       "<table border=\"1\" class=\"dataframe\">\n",
       "  <thead>\n",
       "    <tr style=\"text-align: right;\">\n",
       "      <th></th>\n",
       "      <th>BILL_AMT1</th>\n",
       "      <th>BILL_AMT2</th>\n",
       "      <th>PAY_AMT1</th>\n",
       "      <th>PAY_0</th>\n",
       "      <th>BILL_AMT3</th>\n",
       "      <th>PAY_AMT2</th>\n",
       "      <th>PAY_2</th>\n",
       "      <th>BILL_AMT4</th>\n",
       "      <th>PAY_AMT3</th>\n",
       "      <th>PAY_3</th>\n",
       "      <th>BILL_AMT5</th>\n",
       "      <th>PAY_AMT4</th>\n",
       "      <th>PAY_4</th>\n",
       "      <th>BILL_AMT6</th>\n",
       "      <th>PAY_AMT5</th>\n",
       "      <th>PAY_5</th>\n",
       "      <th>PAY_AMT6</th>\n",
       "    </tr>\n",
       "  </thead>\n",
       "  <tbody>\n",
       "    <tr>\n",
       "      <th>0</th>\n",
       "      <td>20952</td>\n",
       "      <td>12590</td>\n",
       "      <td>12590</td>\n",
       "      <td>-1</td>\n",
       "      <td>3479</td>\n",
       "      <td>3479</td>\n",
       "      <td>-1</td>\n",
       "      <td>3435</td>\n",
       "      <td>3446</td>\n",
       "      <td>-1</td>\n",
       "      <td>8870</td>\n",
       "      <td>8870</td>\n",
       "      <td>-1</td>\n",
       "      <td>2020</td>\n",
       "      <td>2020</td>\n",
       "      <td>-1</td>\n",
       "      <td>27043</td>\n",
       "    </tr>\n",
       "    <tr>\n",
       "      <th>1</th>\n",
       "      <td>456</td>\n",
       "      <td>0</td>\n",
       "      <td>0</td>\n",
       "      <td>2</td>\n",
       "      <td>0</td>\n",
       "      <td>0</td>\n",
       "      <td>2</td>\n",
       "      <td>2240</td>\n",
       "      <td>2240</td>\n",
       "      <td>-2</td>\n",
       "      <td>1681</td>\n",
       "      <td>0</td>\n",
       "      <td>-1</td>\n",
       "      <td>2267</td>\n",
       "      <td>2267</td>\n",
       "      <td>0</td>\n",
       "      <td>3074</td>\n",
       "    </tr>\n",
       "    <tr>\n",
       "      <th>2</th>\n",
       "      <td>49846</td>\n",
       "      <td>53811</td>\n",
       "      <td>5000</td>\n",
       "      <td>0</td>\n",
       "      <td>38717</td>\n",
       "      <td>2000</td>\n",
       "      <td>0</td>\n",
       "      <td>35409</td>\n",
       "      <td>2000</td>\n",
       "      <td>0</td>\n",
       "      <td>35036</td>\n",
       "      <td>3000</td>\n",
       "      <td>0</td>\n",
       "      <td>35939</td>\n",
       "      <td>3000</td>\n",
       "      <td>0</td>\n",
       "      <td>1500</td>\n",
       "    </tr>\n",
       "    <tr>\n",
       "      <th>3</th>\n",
       "      <td>2675</td>\n",
       "      <td>0</td>\n",
       "      <td>0</td>\n",
       "      <td>-1</td>\n",
       "      <td>0</td>\n",
       "      <td>0</td>\n",
       "      <td>-1</td>\n",
       "      <td>0</td>\n",
       "      <td>0</td>\n",
       "      <td>-2</td>\n",
       "      <td>0</td>\n",
       "      <td>0</td>\n",
       "      <td>-2</td>\n",
       "      <td>0</td>\n",
       "      <td>0</td>\n",
       "      <td>-2</td>\n",
       "      <td>0</td>\n",
       "    </tr>\n",
       "    <tr>\n",
       "      <th>4</th>\n",
       "      <td>35861</td>\n",
       "      <td>18521</td>\n",
       "      <td>1500</td>\n",
       "      <td>-1</td>\n",
       "      <td>19385</td>\n",
       "      <td>1500</td>\n",
       "      <td>0</td>\n",
       "      <td>20561</td>\n",
       "      <td>1500</td>\n",
       "      <td>0</td>\n",
       "      <td>21261</td>\n",
       "      <td>1028</td>\n",
       "      <td>0</td>\n",
       "      <td>21457</td>\n",
       "      <td>876</td>\n",
       "      <td>0</td>\n",
       "      <td>1449</td>\n",
       "    </tr>\n",
       "  </tbody>\n",
       "</table>\n",
       "</div>"
      ],
      "text/plain": [
       "   BILL_AMT1  BILL_AMT2  PAY_AMT1  PAY_0  BILL_AMT3  PAY_AMT2  PAY_2  \\\n",
       "0      20952      12590     12590     -1       3479      3479     -1   \n",
       "1        456          0         0      2          0         0      2   \n",
       "2      49846      53811      5000      0      38717      2000      0   \n",
       "3       2675          0         0     -1          0         0     -1   \n",
       "4      35861      18521      1500     -1      19385      1500      0   \n",
       "\n",
       "   BILL_AMT4  PAY_AMT3  PAY_3  BILL_AMT5  PAY_AMT4  PAY_4  BILL_AMT6  \\\n",
       "0       3435      3446     -1       8870      8870     -1       2020   \n",
       "1       2240      2240     -2       1681         0     -1       2267   \n",
       "2      35409      2000      0      35036      3000      0      35939   \n",
       "3          0         0     -2          0         0     -2          0   \n",
       "4      20561      1500      0      21261      1028      0      21457   \n",
       "\n",
       "   PAY_AMT5  PAY_5  PAY_AMT6  \n",
       "0      2020     -1     27043  \n",
       "1      2267      0      3074  \n",
       "2      3000      0      1500  \n",
       "3         0     -2         0  \n",
       "4       876      0      1449  "
      ]
     },
     "execution_count": 22,
     "metadata": {},
     "output_type": "execute_result"
    }
   ],
   "source": [
    "#BILL_AMT1 ---> Bill Amount for the month of September\n",
    "train_data[['BILL_AMT1'] + pay_bill_list + ['PAY_AMT6']].head()"
   ]
  },
  {
   "cell_type": "code",
   "execution_count": 23,
   "metadata": {},
   "outputs": [
    {
     "data": {
      "text/html": [
       "<div>\n",
       "<style scoped>\n",
       "    .dataframe tbody tr th:only-of-type {\n",
       "        vertical-align: middle;\n",
       "    }\n",
       "\n",
       "    .dataframe tbody tr th {\n",
       "        vertical-align: top;\n",
       "    }\n",
       "\n",
       "    .dataframe thead th {\n",
       "        text-align: right;\n",
       "    }\n",
       "</style>\n",
       "<table border=\"1\" class=\"dataframe\">\n",
       "  <thead>\n",
       "    <tr style=\"text-align: right;\">\n",
       "      <th></th>\n",
       "      <th>BILL_AMT1</th>\n",
       "      <th>BILL_AMT2</th>\n",
       "      <th>PAY_AMT1</th>\n",
       "      <th>PAY_0</th>\n",
       "      <th>BILL_AMT3</th>\n",
       "      <th>PAY_AMT2</th>\n",
       "      <th>PAY_2</th>\n",
       "      <th>BILL_AMT4</th>\n",
       "      <th>PAY_AMT3</th>\n",
       "      <th>PAY_3</th>\n",
       "      <th>BILL_AMT5</th>\n",
       "      <th>PAY_AMT4</th>\n",
       "      <th>PAY_4</th>\n",
       "      <th>BILL_AMT6</th>\n",
       "      <th>PAY_AMT5</th>\n",
       "      <th>PAY_5</th>\n",
       "      <th>PAY_AMT6</th>\n",
       "    </tr>\n",
       "  </thead>\n",
       "  <tbody>\n",
       "    <tr>\n",
       "      <th>20995</th>\n",
       "      <td>0</td>\n",
       "      <td>0</td>\n",
       "      <td>0</td>\n",
       "      <td>1</td>\n",
       "      <td>0</td>\n",
       "      <td>0</td>\n",
       "      <td>-2</td>\n",
       "      <td>0</td>\n",
       "      <td>0</td>\n",
       "      <td>-2</td>\n",
       "      <td>0</td>\n",
       "      <td>0</td>\n",
       "      <td>-2</td>\n",
       "      <td>0</td>\n",
       "      <td>0</td>\n",
       "      <td>-2</td>\n",
       "      <td>0</td>\n",
       "    </tr>\n",
       "    <tr>\n",
       "      <th>20996</th>\n",
       "      <td>69767</td>\n",
       "      <td>73197</td>\n",
       "      <td>5000</td>\n",
       "      <td>0</td>\n",
       "      <td>44195</td>\n",
       "      <td>3000</td>\n",
       "      <td>0</td>\n",
       "      <td>45458</td>\n",
       "      <td>2000</td>\n",
       "      <td>0</td>\n",
       "      <td>48679</td>\n",
       "      <td>4000</td>\n",
       "      <td>0</td>\n",
       "      <td>49895</td>\n",
       "      <td>2000</td>\n",
       "      <td>0</td>\n",
       "      <td>2000</td>\n",
       "    </tr>\n",
       "    <tr>\n",
       "      <th>20997</th>\n",
       "      <td>21509</td>\n",
       "      <td>20877</td>\n",
       "      <td>0</td>\n",
       "      <td>1</td>\n",
       "      <td>24122</td>\n",
       "      <td>3600</td>\n",
       "      <td>2</td>\n",
       "      <td>23440</td>\n",
       "      <td>0</td>\n",
       "      <td>2</td>\n",
       "      <td>28843</td>\n",
       "      <td>6000</td>\n",
       "      <td>2</td>\n",
       "      <td>31353</td>\n",
       "      <td>3000</td>\n",
       "      <td>0</td>\n",
       "      <td>0</td>\n",
       "    </tr>\n",
       "    <tr>\n",
       "      <th>20998</th>\n",
       "      <td>28477</td>\n",
       "      <td>28718</td>\n",
       "      <td>2000</td>\n",
       "      <td>0</td>\n",
       "      <td>28847</td>\n",
       "      <td>2000</td>\n",
       "      <td>0</td>\n",
       "      <td>28747</td>\n",
       "      <td>2000</td>\n",
       "      <td>0</td>\n",
       "      <td>29177</td>\n",
       "      <td>2000</td>\n",
       "      <td>0</td>\n",
       "      <td>29452</td>\n",
       "      <td>2000</td>\n",
       "      <td>0</td>\n",
       "      <td>2000</td>\n",
       "    </tr>\n",
       "    <tr>\n",
       "      <th>20999</th>\n",
       "      <td>0</td>\n",
       "      <td>0</td>\n",
       "      <td>0</td>\n",
       "      <td>1</td>\n",
       "      <td>0</td>\n",
       "      <td>0</td>\n",
       "      <td>-2</td>\n",
       "      <td>0</td>\n",
       "      <td>0</td>\n",
       "      <td>-2</td>\n",
       "      <td>0</td>\n",
       "      <td>0</td>\n",
       "      <td>-2</td>\n",
       "      <td>0</td>\n",
       "      <td>0</td>\n",
       "      <td>-2</td>\n",
       "      <td>0</td>\n",
       "    </tr>\n",
       "  </tbody>\n",
       "</table>\n",
       "</div>"
      ],
      "text/plain": [
       "       BILL_AMT1  BILL_AMT2  PAY_AMT1  PAY_0  BILL_AMT3  PAY_AMT2  PAY_2  \\\n",
       "20995          0          0         0      1          0         0     -2   \n",
       "20996      69767      73197      5000      0      44195      3000      0   \n",
       "20997      21509      20877         0      1      24122      3600      2   \n",
       "20998      28477      28718      2000      0      28847      2000      0   \n",
       "20999          0          0         0      1          0         0     -2   \n",
       "\n",
       "       BILL_AMT4  PAY_AMT3  PAY_3  BILL_AMT5  PAY_AMT4  PAY_4  BILL_AMT6  \\\n",
       "20995          0         0     -2          0         0     -2          0   \n",
       "20996      45458      2000      0      48679      4000      0      49895   \n",
       "20997      23440         0      2      28843      6000      2      31353   \n",
       "20998      28747      2000      0      29177      2000      0      29452   \n",
       "20999          0         0     -2          0         0     -2          0   \n",
       "\n",
       "       PAY_AMT5  PAY_5  PAY_AMT6  \n",
       "20995         0     -2         0  \n",
       "20996      2000      0      2000  \n",
       "20997      3000      0         0  \n",
       "20998      2000      0      2000  \n",
       "20999         0     -2         0  "
      ]
     },
     "execution_count": 23,
     "metadata": {},
     "output_type": "execute_result"
    }
   ],
   "source": [
    "train_data[['BILL_AMT1'] + pay_bill_list + ['PAY_AMT6']].tail()"
   ]
  },
  {
   "cell_type": "code",
   "execution_count": 24,
   "metadata": {},
   "outputs": [],
   "source": [
    "#Find the total bill amount and the total Payment amount\n",
    "pay_amt_cols = [col for col in \\\n",
    "                ['BILL_AMT1'] + pay_bill_list + ['PAY_AMT6']\\\n",
    "               if('PAY_AMT' in col)]\n",
    "bill_amt_cols = [col for col in \\\n",
    "                ['BILL_AMT1'] + pay_bill_list + ['PAY_AMT6']\\\n",
    "               if('BILL_AMT' in col)]\n",
    "\n"
   ]
  },
  {
   "cell_type": "code",
   "execution_count": 25,
   "metadata": {},
   "outputs": [
    {
     "data": {
      "text/html": [
       "<div>\n",
       "<style scoped>\n",
       "    .dataframe tbody tr th:only-of-type {\n",
       "        vertical-align: middle;\n",
       "    }\n",
       "\n",
       "    .dataframe tbody tr th {\n",
       "        vertical-align: top;\n",
       "    }\n",
       "\n",
       "    .dataframe thead th {\n",
       "        text-align: right;\n",
       "    }\n",
       "</style>\n",
       "<table border=\"1\" class=\"dataframe\">\n",
       "  <thead>\n",
       "    <tr style=\"text-align: right;\">\n",
       "      <th></th>\n",
       "      <th>PAY_AMT1</th>\n",
       "      <th>PAY_AMT2</th>\n",
       "      <th>PAY_AMT3</th>\n",
       "      <th>PAY_AMT4</th>\n",
       "      <th>PAY_AMT5</th>\n",
       "      <th>PAY_AMT6</th>\n",
       "    </tr>\n",
       "  </thead>\n",
       "  <tbody>\n",
       "    <tr>\n",
       "      <th>0</th>\n",
       "      <td>12590</td>\n",
       "      <td>3479</td>\n",
       "      <td>3446</td>\n",
       "      <td>8870</td>\n",
       "      <td>2020</td>\n",
       "      <td>27043</td>\n",
       "    </tr>\n",
       "    <tr>\n",
       "      <th>1</th>\n",
       "      <td>0</td>\n",
       "      <td>0</td>\n",
       "      <td>2240</td>\n",
       "      <td>0</td>\n",
       "      <td>2267</td>\n",
       "      <td>3074</td>\n",
       "    </tr>\n",
       "    <tr>\n",
       "      <th>2</th>\n",
       "      <td>5000</td>\n",
       "      <td>2000</td>\n",
       "      <td>2000</td>\n",
       "      <td>3000</td>\n",
       "      <td>3000</td>\n",
       "      <td>1500</td>\n",
       "    </tr>\n",
       "    <tr>\n",
       "      <th>3</th>\n",
       "      <td>0</td>\n",
       "      <td>0</td>\n",
       "      <td>0</td>\n",
       "      <td>0</td>\n",
       "      <td>0</td>\n",
       "      <td>0</td>\n",
       "    </tr>\n",
       "    <tr>\n",
       "      <th>4</th>\n",
       "      <td>1500</td>\n",
       "      <td>1500</td>\n",
       "      <td>1500</td>\n",
       "      <td>1028</td>\n",
       "      <td>876</td>\n",
       "      <td>1449</td>\n",
       "    </tr>\n",
       "  </tbody>\n",
       "</table>\n",
       "</div>"
      ],
      "text/plain": [
       "   PAY_AMT1  PAY_AMT2  PAY_AMT3  PAY_AMT4  PAY_AMT5  PAY_AMT6\n",
       "0     12590      3479      3446      8870      2020     27043\n",
       "1         0         0      2240         0      2267      3074\n",
       "2      5000      2000      2000      3000      3000      1500\n",
       "3         0         0         0         0         0         0\n",
       "4      1500      1500      1500      1028       876      1449"
      ]
     },
     "execution_count": 25,
     "metadata": {},
     "output_type": "execute_result"
    }
   ],
   "source": [
    "train_data[pay_amt_cols].head()"
   ]
  },
  {
   "cell_type": "code",
   "execution_count": 26,
   "metadata": {},
   "outputs": [],
   "source": [
    "def get_total_amount(data):\n",
    "    pay_amt = np.array(data[pay_amt_cols])\n",
    "    bill_amt = np.array(data[bill_amt_cols])\n",
    "\n",
    "    total_bill_amt, total_pay_amt = [], []\n",
    "\n",
    "    #Iterate over the rows and get the sum\n",
    "    total_pay_amt = [sum(amts) for amts in pay_amt]\n",
    "    total_bill_amt = [sum(amts) for amts in bill_amt]\n",
    "    \n",
    "    return (total_pay_amt, total_bill_amt)"
   ]
  },
  {
   "cell_type": "code",
   "execution_count": 27,
   "metadata": {},
   "outputs": [],
   "source": [
    "#Append the total_pay_amt and total_bill_amt\n",
    "'''\n",
    "train_data\n",
    "'''\n",
    "total_pay_amt_train, total_bill_amt_train = get_total_amount(train_data)\n",
    "train_data['Total_Bill_Amount'] = total_bill_amt_train\n",
    "train_data['Total_Pay_Amount'] = total_pay_amt_train\n",
    "\n",
    "'''\n",
    "test_data\n",
    "'''\n",
    "total_pay_amt_test, total_bill_amt_test = get_total_amount(test_data)\n",
    "test_data['Total_Bill_Amount'] = total_bill_amt_test\n",
    "test_data['Total_Pay_Amount'] = total_pay_amt_test"
   ]
  },
  {
   "cell_type": "code",
   "execution_count": 28,
   "metadata": {},
   "outputs": [
    {
     "data": {
      "text/html": [
       "<div>\n",
       "<style scoped>\n",
       "    .dataframe tbody tr th:only-of-type {\n",
       "        vertical-align: middle;\n",
       "    }\n",
       "\n",
       "    .dataframe tbody tr th {\n",
       "        vertical-align: top;\n",
       "    }\n",
       "\n",
       "    .dataframe thead th {\n",
       "        text-align: right;\n",
       "    }\n",
       "</style>\n",
       "<table border=\"1\" class=\"dataframe\">\n",
       "  <thead>\n",
       "    <tr style=\"text-align: right;\">\n",
       "      <th></th>\n",
       "      <th>BILL_AMT1</th>\n",
       "      <th>BILL_AMT2</th>\n",
       "      <th>BILL_AMT3</th>\n",
       "      <th>BILL_AMT4</th>\n",
       "      <th>BILL_AMT5</th>\n",
       "      <th>BILL_AMT6</th>\n",
       "      <th>Total_Bill_Amount</th>\n",
       "    </tr>\n",
       "  </thead>\n",
       "  <tbody>\n",
       "    <tr>\n",
       "      <th>0</th>\n",
       "      <td>20952</td>\n",
       "      <td>12590</td>\n",
       "      <td>3479</td>\n",
       "      <td>3435</td>\n",
       "      <td>8870</td>\n",
       "      <td>2020</td>\n",
       "      <td>51346</td>\n",
       "    </tr>\n",
       "    <tr>\n",
       "      <th>1</th>\n",
       "      <td>456</td>\n",
       "      <td>0</td>\n",
       "      <td>0</td>\n",
       "      <td>2240</td>\n",
       "      <td>1681</td>\n",
       "      <td>2267</td>\n",
       "      <td>6644</td>\n",
       "    </tr>\n",
       "    <tr>\n",
       "      <th>2</th>\n",
       "      <td>49846</td>\n",
       "      <td>53811</td>\n",
       "      <td>38717</td>\n",
       "      <td>35409</td>\n",
       "      <td>35036</td>\n",
       "      <td>35939</td>\n",
       "      <td>248758</td>\n",
       "    </tr>\n",
       "    <tr>\n",
       "      <th>3</th>\n",
       "      <td>2675</td>\n",
       "      <td>0</td>\n",
       "      <td>0</td>\n",
       "      <td>0</td>\n",
       "      <td>0</td>\n",
       "      <td>0</td>\n",
       "      <td>2675</td>\n",
       "    </tr>\n",
       "    <tr>\n",
       "      <th>4</th>\n",
       "      <td>35861</td>\n",
       "      <td>18521</td>\n",
       "      <td>19385</td>\n",
       "      <td>20561</td>\n",
       "      <td>21261</td>\n",
       "      <td>21457</td>\n",
       "      <td>137046</td>\n",
       "    </tr>\n",
       "  </tbody>\n",
       "</table>\n",
       "</div>"
      ],
      "text/plain": [
       "   BILL_AMT1  BILL_AMT2  BILL_AMT3  BILL_AMT4  BILL_AMT5  BILL_AMT6  \\\n",
       "0      20952      12590       3479       3435       8870       2020   \n",
       "1        456          0          0       2240       1681       2267   \n",
       "2      49846      53811      38717      35409      35036      35939   \n",
       "3       2675          0          0          0          0          0   \n",
       "4      35861      18521      19385      20561      21261      21457   \n",
       "\n",
       "   Total_Bill_Amount  \n",
       "0              51346  \n",
       "1               6644  \n",
       "2             248758  \n",
       "3               2675  \n",
       "4             137046  "
      ]
     },
     "execution_count": 28,
     "metadata": {},
     "output_type": "execute_result"
    }
   ],
   "source": [
    "train_data[bill_amt_cols + ['Total_Bill_Amount']].head()"
   ]
  },
  {
   "cell_type": "code",
   "execution_count": 29,
   "metadata": {},
   "outputs": [
    {
     "data": {
      "text/html": [
       "<div>\n",
       "<style scoped>\n",
       "    .dataframe tbody tr th:only-of-type {\n",
       "        vertical-align: middle;\n",
       "    }\n",
       "\n",
       "    .dataframe tbody tr th {\n",
       "        vertical-align: top;\n",
       "    }\n",
       "\n",
       "    .dataframe thead th {\n",
       "        text-align: right;\n",
       "    }\n",
       "</style>\n",
       "<table border=\"1\" class=\"dataframe\">\n",
       "  <thead>\n",
       "    <tr style=\"text-align: right;\">\n",
       "      <th></th>\n",
       "      <th>PAY_0</th>\n",
       "      <th>PAY_2</th>\n",
       "      <th>PAY_3</th>\n",
       "      <th>PAY_4</th>\n",
       "      <th>PAY_5</th>\n",
       "      <th>PAY_6</th>\n",
       "    </tr>\n",
       "  </thead>\n",
       "  <tbody>\n",
       "    <tr>\n",
       "      <th>0</th>\n",
       "      <td>-1</td>\n",
       "      <td>-1</td>\n",
       "      <td>-1</td>\n",
       "      <td>-1</td>\n",
       "      <td>-1</td>\n",
       "      <td>-1</td>\n",
       "    </tr>\n",
       "    <tr>\n",
       "      <th>1</th>\n",
       "      <td>2</td>\n",
       "      <td>2</td>\n",
       "      <td>-2</td>\n",
       "      <td>-1</td>\n",
       "      <td>0</td>\n",
       "      <td>-1</td>\n",
       "    </tr>\n",
       "    <tr>\n",
       "      <th>2</th>\n",
       "      <td>0</td>\n",
       "      <td>0</td>\n",
       "      <td>0</td>\n",
       "      <td>0</td>\n",
       "      <td>0</td>\n",
       "      <td>0</td>\n",
       "    </tr>\n",
       "    <tr>\n",
       "      <th>3</th>\n",
       "      <td>-1</td>\n",
       "      <td>-1</td>\n",
       "      <td>-2</td>\n",
       "      <td>-2</td>\n",
       "      <td>-2</td>\n",
       "      <td>-2</td>\n",
       "    </tr>\n",
       "    <tr>\n",
       "      <th>4</th>\n",
       "      <td>-1</td>\n",
       "      <td>0</td>\n",
       "      <td>0</td>\n",
       "      <td>0</td>\n",
       "      <td>0</td>\n",
       "      <td>0</td>\n",
       "    </tr>\n",
       "  </tbody>\n",
       "</table>\n",
       "</div>"
      ],
      "text/plain": [
       "   PAY_0  PAY_2  PAY_3  PAY_4  PAY_5  PAY_6\n",
       "0     -1     -1     -1     -1     -1     -1\n",
       "1      2      2     -2     -1      0     -1\n",
       "2      0      0      0      0      0      0\n",
       "3     -1     -1     -2     -2     -2     -2\n",
       "4     -1      0      0      0      0      0"
      ]
     },
     "execution_count": 29,
     "metadata": {},
     "output_type": "execute_result"
    }
   ],
   "source": [
    "##Desciption of Repayment Status\n",
    "repayment_status = ['PAY_0', 'PAY_2', 'PAY_3', 'PAY_4', 'PAY_5', 'PAY_6']\n",
    "train_data[repayment_status].head()"
   ]
  },
  {
   "cell_type": "code",
   "execution_count": 30,
   "metadata": {},
   "outputs": [
    {
     "data": {
      "text/html": [
       "<div>\n",
       "<style scoped>\n",
       "    .dataframe tbody tr th:only-of-type {\n",
       "        vertical-align: middle;\n",
       "    }\n",
       "\n",
       "    .dataframe tbody tr th {\n",
       "        vertical-align: top;\n",
       "    }\n",
       "\n",
       "    .dataframe thead th {\n",
       "        text-align: right;\n",
       "    }\n",
       "</style>\n",
       "<table border=\"1\" class=\"dataframe\">\n",
       "  <thead>\n",
       "    <tr style=\"text-align: right;\">\n",
       "      <th></th>\n",
       "      <th>PAY_0</th>\n",
       "      <th>PAY_2</th>\n",
       "      <th>PAY_3</th>\n",
       "      <th>PAY_4</th>\n",
       "      <th>PAY_5</th>\n",
       "      <th>PAY_6</th>\n",
       "    </tr>\n",
       "  </thead>\n",
       "  <tbody>\n",
       "    <tr>\n",
       "      <th>count</th>\n",
       "      <td>21000.00000</td>\n",
       "      <td>21000.000000</td>\n",
       "      <td>21000.000000</td>\n",
       "      <td>21000.00000</td>\n",
       "      <td>21000.000000</td>\n",
       "      <td>21000.000000</td>\n",
       "    </tr>\n",
       "    <tr>\n",
       "      <th>mean</th>\n",
       "      <td>-0.01119</td>\n",
       "      <td>-0.127238</td>\n",
       "      <td>-0.164857</td>\n",
       "      <td>-0.21819</td>\n",
       "      <td>-0.260952</td>\n",
       "      <td>-0.288667</td>\n",
       "    </tr>\n",
       "    <tr>\n",
       "      <th>std</th>\n",
       "      <td>1.12321</td>\n",
       "      <td>1.198957</td>\n",
       "      <td>1.198624</td>\n",
       "      <td>1.17221</td>\n",
       "      <td>1.141454</td>\n",
       "      <td>1.151592</td>\n",
       "    </tr>\n",
       "    <tr>\n",
       "      <th>min</th>\n",
       "      <td>-2.00000</td>\n",
       "      <td>-2.000000</td>\n",
       "      <td>-2.000000</td>\n",
       "      <td>-2.00000</td>\n",
       "      <td>-2.000000</td>\n",
       "      <td>-2.000000</td>\n",
       "    </tr>\n",
       "    <tr>\n",
       "      <th>25%</th>\n",
       "      <td>-1.00000</td>\n",
       "      <td>-1.000000</td>\n",
       "      <td>-1.000000</td>\n",
       "      <td>-1.00000</td>\n",
       "      <td>-1.000000</td>\n",
       "      <td>-1.000000</td>\n",
       "    </tr>\n",
       "    <tr>\n",
       "      <th>50%</th>\n",
       "      <td>0.00000</td>\n",
       "      <td>0.000000</td>\n",
       "      <td>0.000000</td>\n",
       "      <td>0.00000</td>\n",
       "      <td>0.000000</td>\n",
       "      <td>0.000000</td>\n",
       "    </tr>\n",
       "    <tr>\n",
       "      <th>75%</th>\n",
       "      <td>0.00000</td>\n",
       "      <td>0.000000</td>\n",
       "      <td>0.000000</td>\n",
       "      <td>0.00000</td>\n",
       "      <td>0.000000</td>\n",
       "      <td>0.000000</td>\n",
       "    </tr>\n",
       "    <tr>\n",
       "      <th>max</th>\n",
       "      <td>8.00000</td>\n",
       "      <td>8.000000</td>\n",
       "      <td>8.000000</td>\n",
       "      <td>8.00000</td>\n",
       "      <td>8.000000</td>\n",
       "      <td>8.000000</td>\n",
       "    </tr>\n",
       "  </tbody>\n",
       "</table>\n",
       "</div>"
      ],
      "text/plain": [
       "             PAY_0         PAY_2         PAY_3        PAY_4         PAY_5  \\\n",
       "count  21000.00000  21000.000000  21000.000000  21000.00000  21000.000000   \n",
       "mean      -0.01119     -0.127238     -0.164857     -0.21819     -0.260952   \n",
       "std        1.12321      1.198957      1.198624      1.17221      1.141454   \n",
       "min       -2.00000     -2.000000     -2.000000     -2.00000     -2.000000   \n",
       "25%       -1.00000     -1.000000     -1.000000     -1.00000     -1.000000   \n",
       "50%        0.00000      0.000000      0.000000      0.00000      0.000000   \n",
       "75%        0.00000      0.000000      0.000000      0.00000      0.000000   \n",
       "max        8.00000      8.000000      8.000000      8.00000      8.000000   \n",
       "\n",
       "              PAY_6  \n",
       "count  21000.000000  \n",
       "mean      -0.288667  \n",
       "std        1.151592  \n",
       "min       -2.000000  \n",
       "25%       -1.000000  \n",
       "50%        0.000000  \n",
       "75%        0.000000  \n",
       "max        8.000000  "
      ]
     },
     "execution_count": 30,
     "metadata": {},
     "output_type": "execute_result"
    }
   ],
   "source": [
    "train_data[repayment_status].describe()"
   ]
  },
  {
   "cell_type": "code",
   "execution_count": 31,
   "metadata": {
    "scrolled": true
   },
   "outputs": [
    {
     "data": {
      "image/png": "[encoded data removed]",
      "text/plain": [
       "<Figure size 432x288 with 1 Axes>"
      ]
     },
     "metadata": {
      "needs_background": "light"
     },
     "output_type": "display_data"
    },
    {
     "data": {
      "image/png": "[encoded data removed]",
      "text/plain": [
       "<Figure size 432x288 with 1 Axes>"
      ]
     },
     "metadata": {
      "needs_background": "light"
     },
     "output_type": "display_data"
    },
    {
     "data": {
      "image/png": "[encoded data removed]",
      "text/plain": [
       "<Figure size 432x288 with 1 Axes>"
      ]
     },
     "metadata": {
      "needs_background": "light"
     },
     "output_type": "display_data"
    },
    {
     "data": {
      "image/png": "[encoded data removed]",
      "text/plain": [
       "<Figure size 432x288 with 1 Axes>"
      ]
     },
     "metadata": {
      "needs_background": "light"
     },
     "output_type": "display_data"
    },
    {
     "data": {
      "image/png": "[encoded data removed]",
      "text/plain": [
       "<Figure size 432x288 with 1 Axes>"
      ]
     },
     "metadata": {
      "needs_background": "light"
     },
     "output_type": "display_data"
    },
    {
     "data": {
      "image/png": "[encoded data removed]",
      "text/plain": [
       "<Figure size 432x288 with 1 Axes>"
      ]
     },
     "metadata": {
      "needs_background": "light"
     },
     "output_type": "display_data"
    }
   ],
   "source": [
    "#Mean < Median ===> Left Skewed(Negatively Skewed)\n",
    "for var in repayment_status:\n",
    "    \n",
    "    plt.boxplot(train_data[var])\n",
    "    plt.title(var)\n",
    "    plt.show()"
   ]
  },
  {
   "cell_type": "markdown",
   "metadata": {},
   "source": [
    "## Data Types of Variables"
   ]
  },
  {
   "cell_type": "code",
   "execution_count": 32,
   "metadata": {},
   "outputs": [
    {
     "name": "stdout",
     "output_type": "stream",
     "text": [
      "Help on function seggregate_columns_basis_types in module utility_functions:\n",
      "\n",
      "seggregate_columns_basis_types(data)\n",
      "    #Seggregate the columns of a data frame based on their data types\n",
      "\n"
     ]
    }
   ],
   "source": [
    "help(uf.seggregate_columns_basis_types)"
   ]
  },
  {
   "cell_type": "code",
   "execution_count": 33,
   "metadata": {},
   "outputs": [],
   "source": [
    "integer_cols, float_cols, categorical_cols, other_cols = \\\n",
    "uf.seggregate_columns_basis_types(train_data)"
   ]
  },
  {
   "cell_type": "code",
   "execution_count": 34,
   "metadata": {},
   "outputs": [
    {
     "data": {
      "text/plain": [
       "['ID',\n",
       " 'LIMIT_BAL',\n",
       " 'SEX',\n",
       " 'EDUCATION',\n",
       " 'MARRIAGE',\n",
       " 'AGE',\n",
       " 'PAY_0',\n",
       " 'PAY_2',\n",
       " 'PAY_3',\n",
       " 'PAY_4',\n",
       " 'PAY_5',\n",
       " 'PAY_6',\n",
       " 'BILL_AMT1',\n",
       " 'BILL_AMT2',\n",
       " 'BILL_AMT3',\n",
       " 'BILL_AMT4',\n",
       " 'BILL_AMT5',\n",
       " 'BILL_AMT6',\n",
       " 'PAY_AMT1',\n",
       " 'PAY_AMT2',\n",
       " 'PAY_AMT3',\n",
       " 'PAY_AMT4',\n",
       " 'PAY_AMT5',\n",
       " 'PAY_AMT6',\n",
       " 'default_payment_next_month',\n",
       " 'Total_Bill_Amount',\n",
       " 'Total_Pay_Amount']"
      ]
     },
     "execution_count": 34,
     "metadata": {},
     "output_type": "execute_result"
    }
   ],
   "source": [
    "integer_cols"
   ]
  },
  {
   "cell_type": "code",
   "execution_count": 35,
   "metadata": {},
   "outputs": [
    {
     "data": {
      "text/plain": [
       "27"
      ]
     },
     "execution_count": 35,
     "metadata": {},
     "output_type": "execute_result"
    }
   ],
   "source": [
    "len(integer_cols)"
   ]
  },
  {
   "cell_type": "code",
   "execution_count": 36,
   "metadata": {},
   "outputs": [
    {
     "data": {
      "text/plain": [
       "['SEX_decoded', 'MARRIAGE_decoded', 'EDUCATION_decoded']"
      ]
     },
     "execution_count": 36,
     "metadata": {},
     "output_type": "execute_result"
    }
   ],
   "source": [
    "categorical_cols"
   ]
  },
  {
   "cell_type": "code",
   "execution_count": 37,
   "metadata": {},
   "outputs": [
    {
     "data": {
      "text/html": [
       "<div>\n",
       "<style scoped>\n",
       "    .dataframe tbody tr th:only-of-type {\n",
       "        vertical-align: middle;\n",
       "    }\n",
       "\n",
       "    .dataframe tbody tr th {\n",
       "        vertical-align: top;\n",
       "    }\n",
       "\n",
       "    .dataframe thead th {\n",
       "        text-align: right;\n",
       "    }\n",
       "</style>\n",
       "<table border=\"1\" class=\"dataframe\">\n",
       "  <thead>\n",
       "    <tr style=\"text-align: right;\">\n",
       "      <th></th>\n",
       "      <th>Variables</th>\n",
       "      <th>Data Types</th>\n",
       "    </tr>\n",
       "  </thead>\n",
       "  <tbody>\n",
       "    <tr>\n",
       "      <th>0</th>\n",
       "      <td>ID</td>\n",
       "      <td>Integer</td>\n",
       "    </tr>\n",
       "    <tr>\n",
       "      <th>1</th>\n",
       "      <td>LIMIT_BAL</td>\n",
       "      <td>Integer</td>\n",
       "    </tr>\n",
       "    <tr>\n",
       "      <th>2</th>\n",
       "      <td>SEX</td>\n",
       "      <td>Integer</td>\n",
       "    </tr>\n",
       "    <tr>\n",
       "      <th>3</th>\n",
       "      <td>EDUCATION</td>\n",
       "      <td>Integer</td>\n",
       "    </tr>\n",
       "    <tr>\n",
       "      <th>4</th>\n",
       "      <td>MARRIAGE</td>\n",
       "      <td>Integer</td>\n",
       "    </tr>\n",
       "  </tbody>\n",
       "</table>\n",
       "</div>"
      ],
      "text/plain": [
       "   Variables Data Types\n",
       "0         ID    Integer\n",
       "1  LIMIT_BAL    Integer\n",
       "2        SEX    Integer\n",
       "3  EDUCATION    Integer\n",
       "4   MARRIAGE    Integer"
      ]
     },
     "execution_count": 37,
     "metadata": {},
     "output_type": "execute_result"
    }
   ],
   "source": [
    "#Write the data_type_df to a file\n",
    "data_type_df = create_data_type_df()\n",
    "data_type_df.to_csv('data_types.csv')\n",
    "data_type_df.head()"
   ]
  },
  {
   "cell_type": "markdown",
   "metadata": {},
   "source": [
    "## Bivariate Analysis"
   ]
  },
  {
   "cell_type": "code",
   "execution_count": 38,
   "metadata": {},
   "outputs": [
    {
     "data": {
      "text/plain": [
       "['SEX_decoded', 'MARRIAGE_decoded', 'EDUCATION_decoded']"
      ]
     },
     "execution_count": 38,
     "metadata": {},
     "output_type": "execute_result"
    }
   ],
   "source": [
    "#Categorical VS Target\n",
    "categorical_cols"
   ]
  },
  {
   "cell_type": "code",
   "execution_count": 39,
   "metadata": {},
   "outputs": [
    {
     "name": "stdout",
     "output_type": "stream",
     "text": [
      "SEX_decoded\n",
      "default_payment_next_month      0     1\n",
      "SEX_decoded                            \n",
      "Female                      10097  2662\n",
      "Male                         6258  1983\n",
      "MARRIAGE_decoded\n",
      "default_payment_next_month     0     1\n",
      "MARRIAGE_decoded                      \n",
      "Divorced                     156    63\n",
      "Married                     7343  2218\n",
      "Single                      8822  2362\n",
      "Unknown                       34     2\n",
      "EDUCATION_decoded\n",
      "default_payment_next_month     0     1\n",
      "EDUCATION_decoded                     \n",
      "UNK_1                        190    10\n",
      "UNK_2                         30     4\n",
      "Unknown                       10     0\n",
      "graduate_school             5982  1433\n",
      "high_school                 2618   849\n",
      "others                        81     4\n",
      "university                  7444  2345\n"
     ]
    }
   ],
   "source": [
    "for var in categorical_cols:\n",
    "    df = pd.crosstab(train_data[var], train_data[target])\n",
    "    print(var)\n",
    "    print(df)"
   ]
  },
  {
   "cell_type": "code",
   "execution_count": 40,
   "metadata": {},
   "outputs": [],
   "source": [
    "\n",
    "#This function will divide the set of values into bins\n",
    "def get_bins(var, data, bins = 10):\n",
    "    #Numeric Variables\n",
    "    if(data[var].dtype == int or data[var].dtype == float):\n",
    "        bins = pd.cut(data[var], bins=bins) #no. of bins can be changed\n",
    "        return (bins)\n",
    "    \n",
    "    #If the variable is categorical each category acts like a bin\n",
    "    if(data[var].dtype == object):\n",
    "        categories = list(np.unique(data[var]))\n",
    "        return (categories)\n",
    "    return None\n",
    "\n",
    "#Avoiding\n",
    "'''\n",
    "Log(0/1)\n",
    "Log(1/0)\n",
    "'''\n",
    "def woe_iv_sanity(goods, bads, total_goods, total_bads):\n",
    "    if(goods == 0):\n",
    "        goods = ((goods + 0.5)/total_goods)\n",
    "    if(bads == 0):\n",
    "        bads = ((bads + 0.5)/total_bads)\n",
    "    \n",
    "    return (goods, bads)\n",
    "\n",
    "def get_group_wise_stats(data, total_defaulters, total_non_defaulters, target = 'default_payment_next_month'):\n",
    "    #Frequency, %goods, %bads\n",
    "    frequency = data.shape[0]\n",
    "    no_goods = data.loc[data[target]==1, 'default_payment_next_month'].shape[0]\n",
    "    no_bads = frequency - no_goods\n",
    "    \n",
    "    #Handling the 0 values\n",
    "    no_goods, no_bads = woe_iv_sanity(no_goods, no_bads, total_defaulters, total_non_defaulters)\n",
    "    \n",
    "    per_goods, per_bads = list(map(lambda x: x*100/frequency,\\\n",
    "                                   [no_goods, no_bads]))\n",
    "    \n",
    "    return (frequency, per_goods, per_bads)\n",
    "\n",
    "def WOE_IV(var, data, target='default_payment_next_month'):\n",
    "    #Number of defaulters and non-defaulters\n",
    "    total_defaulters = data.loc[data[target]==1, target].shape[0]\n",
    "    total_non_defaulters = data.shape[0] - total_defaulters\n",
    "    \n",
    "    #Obtain the bins\n",
    "    bins = get_bins(var, data)\n",
    "    \n",
    "    #Create a WOE_IV data frame\n",
    "    WOE_IV_df = pd.DataFrame()\n",
    "    bins, woe_s, iv_s = [], [], []\n",
    "    \n",
    "    if(data[var].dtype == object):\n",
    "        bin_grp = data.groupby(var)\n",
    "        for grp, df in bin_grp:\n",
    "            #Calculate the number of goods and bads\n",
    "            frequency, per_defaulters, per_non_defaulters = get_group_wise_stats(df, total_defaulters, total_non_defaulters)\n",
    "            \n",
    "\t\t\t#woe = log(#Events/#Non-Events)\n",
    "            woe_s.append(np.log(per_defaulters/per_non_defaulters))\n",
    "            iv_s.append(per_defaulters - per_non_defaulters)\n",
    "        \n",
    "        WOE_IV_df[var + '_bins'] = list(bin_grp.groups)\n",
    "        WOE_IV_df['WOE'] = woe_s\n",
    "        WOE_IV_df['IV'] = iv_s\n",
    "    return WOE_IV_df"
   ]
  },
  {
   "cell_type": "code",
   "execution_count": 41,
   "metadata": {},
   "outputs": [
    {
     "data": {
      "text/plain": [
       "Counter({'Single': 11184, 'Married': 9561, 'Divorced': 219, 'Unknown': 36})"
      ]
     },
     "execution_count": 41,
     "metadata": {},
     "output_type": "execute_result"
    }
   ],
   "source": [
    "Counter(train_data['MARRIAGE_decoded'])"
   ]
  },
  {
   "cell_type": "code",
   "execution_count": 42,
   "metadata": {},
   "outputs": [
    {
     "name": "stdout",
     "output_type": "stream",
     "text": [
      "SEX_decoded\n",
      "  SEX_decoded_bins       WOE         IV\n",
      "0           Female -1.333161 -58.272592\n",
      "1             Male -1.149250 -51.874772\n",
      "MARRIAGE_decoded\n",
      "  MARRIAGE_decoded_bins       WOE         IV\n",
      "3               Unknown -2.833213 -88.888889\n",
      "2                Single -1.317740 -57.761087\n",
      "1               Married -1.197142 -53.603180\n",
      "0              Divorced -0.906721 -42.465753\n",
      "EDUCATION_decoded\n",
      "  EDUCATION_decoded_bins        WOE         IV\n",
      "2                Unknown -11.439279 -99.998924\n",
      "5                 others  -3.008155 -90.588235\n",
      "0                  UNK_1  -2.944439 -90.000000\n",
      "1                  UNK_2  -2.014903 -76.470588\n",
      "3        graduate_school  -1.428985 -61.348618\n",
      "6             university  -1.155123 -52.089080\n",
      "4            high_school  -1.126107 -51.023940\n"
     ]
    }
   ],
   "source": [
    "#WOE values\n",
    "for var in categorical_cols:\n",
    "    try:\n",
    "        print(var)\n",
    "        WOE_IV_df = WOE_IV(var, train_data)\n",
    "        \n",
    "        #Sort the df in ascending order of their WOE values\n",
    "        WOE_IV_df = WOE_IV_df.sort_values(by = 'WOE')\n",
    "        print(WOE_IV_df)\n",
    "    except TypeError as e:\n",
    "        \n",
    "        print(\"Problem in \" + var)\n",
    "        print(\"Error:- \" + e)"
   ]
  },
  {
   "cell_type": "code",
   "execution_count": 43,
   "metadata": {},
   "outputs": [],
   "source": [
    "#Combine the levels having similar WOE values\n",
    "'''\n",
    "Combining university and high_school in EDUCATION_decoded\n",
    "into a new category 'uni_high'\n",
    "'''\n",
    "train_data.loc[(train_data['EDUCATION_decoded']=='university') |\\\n",
    "              (train_data['EDUCATION_decoded']=='high_school'),\\\n",
    "              'EDUCATION_decoded'] = 'uni_high'\n",
    "\n",
    "\n",
    "#Perform the same changes on the test data\n",
    "train_data.loc[(train_data['EDUCATION_decoded']=='university') |\\\n",
    "              (train_data['EDUCATION_decoded']=='high_school'),\\\n",
    "              'EDUCATION_decoded'] = 'uni_high'"
   ]
  },
  {
   "cell_type": "code",
   "execution_count": 44,
   "metadata": {},
   "outputs": [
    {
     "name": "stdout",
     "output_type": "stream",
     "text": [
      "SEX_decoded\n",
      "  SEX_decoded_bins       WOE         IV\n",
      "0           Female -1.333161 -58.272592\n",
      "1             Male -1.149250 -51.874772\n",
      "MARRIAGE_decoded\n",
      "  MARRIAGE_decoded_bins       WOE         IV\n",
      "3               Unknown -2.833213 -88.888889\n",
      "2                Single -1.317740 -57.761087\n",
      "1               Married -1.197142 -53.603180\n",
      "0              Divorced -0.906721 -42.465753\n",
      "EDUCATION_decoded\n",
      "  EDUCATION_decoded_bins        WOE         IV\n",
      "2                Unknown -11.439279 -99.998924\n",
      "4                 others  -3.008155 -90.588235\n",
      "0                  UNK_1  -2.944439 -90.000000\n",
      "1                  UNK_2  -2.014903 -76.470588\n",
      "3        graduate_school  -1.428985 -61.348618\n",
      "5               uni_high  -1.147492 -51.810501\n"
     ]
    }
   ],
   "source": [
    "#After grouping\n",
    "#WOE values\n",
    "for var in categorical_cols:\n",
    "    try:\n",
    "        print(var)\n",
    "        WOE_IV_df = WOE_IV(var, train_data)\n",
    "        \n",
    "        #Sort the df in ascending order of their WOE values\n",
    "        WOE_IV_df = WOE_IV_df.sort_values(by = 'WOE')\n",
    "        print(WOE_IV_df)\n",
    "    except TypeError as e:\n",
    "        \n",
    "        print(\"Problem in \" + var)\n",
    "        print(\"Error:- \" + e)"
   ]
  },
  {
   "cell_type": "code",
   "execution_count": 45,
   "metadata": {},
   "outputs": [
    {
     "data": {
      "text/plain": [
       "(9000, 29)"
      ]
     },
     "execution_count": 45,
     "metadata": {},
     "output_type": "execute_result"
    }
   ],
   "source": [
    "test_data.shape"
   ]
  },
  {
   "cell_type": "code",
   "execution_count": 46,
   "metadata": {},
   "outputs": [
    {
     "data": {
      "text/plain": [
       "(21000, 30)"
      ]
     },
     "execution_count": 46,
     "metadata": {},
     "output_type": "execute_result"
    }
   ],
   "source": [
    "train_data.shape"
   ]
  },
  {
   "cell_type": "code",
   "execution_count": 47,
   "metadata": {},
   "outputs": [
    {
     "data": {
      "text/plain": [
       "['ID', 'LIMIT_BAL', 'SEX']"
      ]
     },
     "execution_count": 47,
     "metadata": {},
     "output_type": "execute_result"
    }
   ],
   "source": [
    "integer_cols[:3]"
   ]
  },
  {
   "cell_type": "markdown",
   "metadata": {},
   "source": [
    "## Modelling"
   ]
  },
  {
   "cell_type": "code",
   "execution_count": 48,
   "metadata": {},
   "outputs": [],
   "source": [
    "#Remove ['SEX', 'EDUCATION', 'MARRIAGE'] from the integer columns\n",
    "for col in ['SEX', 'EDUCATION', 'MARRIAGE']:\n",
    "    if(col in integer_cols):\n",
    "        integer_cols.remove(col)"
   ]
  },
  {
   "cell_type": "code",
   "execution_count": 49,
   "metadata": {},
   "outputs": [
    {
     "data": {
      "text/plain": [
       "24"
      ]
     },
     "execution_count": 49,
     "metadata": {},
     "output_type": "execute_result"
    }
   ],
   "source": [
    "len(integer_cols)"
   ]
  },
  {
   "cell_type": "code",
   "execution_count": 50,
   "metadata": {},
   "outputs": [
    {
     "data": {
      "text/plain": [
       "False"
      ]
     },
     "execution_count": 50,
     "metadata": {},
     "output_type": "execute_result"
    }
   ],
   "source": [
    "#Consider only integer column\n",
    "independent_int_cols = list(set(integer_cols).difference(set([target])))\n",
    "target in independent_int_cols                            "
   ]
  },
  {
   "cell_type": "code",
   "execution_count": 51,
   "metadata": {},
   "outputs": [],
   "source": [
    "#Remove ID\n",
    "if 'ID' in independent_int_cols:\n",
    "    independent_int_cols.remove('ID')"
   ]
  },
  {
   "cell_type": "markdown",
   "metadata": {},
   "source": [
    "### Check the Event Rate"
   ]
  },
  {
   "cell_type": "code",
   "execution_count": 57,
   "metadata": {},
   "outputs": [
    {
     "name": "stdout",
     "output_type": "stream",
     "text": [
      "Event Rate:- 0.22\n"
     ]
    }
   ],
   "source": [
    "event_rate = train_data[target].sum()/train_data[target].shape[0]\n",
    "print(\"Event Rate:- %.2f\" %(event_rate))"
   ]
  },
  {
   "cell_type": "code",
   "execution_count": 52,
   "metadata": {},
   "outputs": [],
   "source": [
    "#Split the train_data into training set and testing set\n",
    "X = train_data[independent_int_cols]\n",
    "y = train_data[target]\n",
    "X_train, X_test, y_train, y_test = train_test_split(X, y, test_size = 0.2, random_state = 42)"
   ]
  },
  {
   "cell_type": "code",
   "execution_count": 59,
   "metadata": {},
   "outputs": [
    {
     "name": "stdout",
     "output_type": "stream",
     "text": [
      "Train Shape:- (16800, 22)\t(16800,)\n",
      "Test Shape:- (4200, 22)\t(4200,)\n"
     ]
    }
   ],
   "source": [
    "print(\"Train Shape:- {}\\t{}\" .format(X_train.shape, y_train.shape))\n",
    "print(\"Test Shape:- {}\\t{}\" .format(X_test.shape, y_test.shape))"
   ]
  },
  {
   "cell_type": "code",
   "execution_count": 95,
   "metadata": {},
   "outputs": [],
   "source": [
    "class Modelling():\n",
    "    \n",
    "    def __init__(self, X_train, X_test, y_train, y_test, model, name_of_classifier):\n",
    "        self.X_train = X_train\n",
    "        self.X_test = X_test\n",
    "        self.y_train = y_train\n",
    "        self.y_test = y_test\n",
    "        self.model = model\n",
    "        self.clf_name = name_of_classifier\n",
    "    \n",
    "    def auc_roc(self, X, y, train_test = 'Test Set'):\n",
    "        predicted_probability = self.model.predict_proba(X)\n",
    "        \n",
    "        #Save the predicted probailities\n",
    "        probability_df = pd.DataFrame(predicted_probability[::, 1])\n",
    "        \n",
    "        fpr, tpr, _ = roc_curve(y,  predicted_probability[::,1])\n",
    "        auc = roc_auc_score(y, predicted_probability[::,1])\n",
    "        plt.plot(fpr,tpr,label=\"data 1, auc=\"+str(auc))\n",
    "        plt.legend(loc=4)\n",
    "        plt.xlabel(\"False Positive Rate\")\n",
    "        plt.ylabel(\"True Positive Rate\")\n",
    "        plt.title(train_test)\n",
    "        plt.savefig(\"AUC \" + self.clf_name + \".png\")\n",
    "        plt.show()\n",
    "        \n",
    "        #Return the probability of predicting 0\n",
    "        return probability_df\n",
    "        \n",
    "    def evaluate(self, CM):\n",
    "        accuracy = CM.diagonal().sum()/CM.sum()\n",
    "        precision = CM[0][0]/(CM[0][0] + CM[0][1])\n",
    "        recall = CM[0][0]/(CM[0][0] + CM[1][0])\n",
    "        f_measure = (2*precision*recall)/(precision+recall)\n",
    "        print(CM)\n",
    "        print(\"Accuracy:- {:.2f}\\nPrecision:- {:.2f}\\nRecall:- {:.2f}\\nF-measure:- {:.2f}\" \\\n",
    "              .format(accuracy,precision, recall, f_measure))\n",
    "        \n",
    "    def prediction(self):\n",
    "        #Fit the model\n",
    "        model = self.model.fit(self.X_train, self.y_train)\n",
    "        \n",
    "        #Predict on train and test set\n",
    "        predicted_train = model.predict(self.X_train) \n",
    "        predicted_test = model.predict(self.X_test)\n",
    "        \n",
    "        #Results\n",
    "        result_test = pd.DataFrame({'Actual':self.y_test.ravel(),\\\n",
    "                                    'Predicted':predicted_test.ravel()},\\\n",
    "                                   columns=['Actual','Predicted'])\n",
    "        \n",
    "        #Save the model\n",
    "        joblib.dump(model, os.getcwd() + \"/Models/\" + \\\n",
    "                    self.clf_name + \".pkl\")\n",
    "        \n",
    "        #Print the AUC_ROC curve for train and test data\n",
    "        train_probability_df = self.auc_roc(self.X_train, \\\n",
    "                                            self.y_train.ravel(), \\\n",
    "                                            'Train Set')\n",
    "        test_probability_df = self.auc_roc(self.X_test, \\\n",
    "                                           self.y_test.ravel(), \\\n",
    "                                           'Test Set')\n",
    "        \n",
    "        #Evaluate the model\n",
    "        print(\"Training Data\")\n",
    "        CM_train = confusion_matrix(self.y_train.ravel(), \\\n",
    "                                    predicted_train.ravel(), \\\n",
    "                                    labels=None, sample_weight=None)\n",
    "        self.evaluate(CM_train)\n",
    "        \n",
    "        print(\"Testing Data\")\n",
    "        CM_test = confusion_matrix(self.y_test.ravel(), \\\n",
    "                                   predicted_test.ravel(), \\\n",
    "                                   labels=None, sample_weight=None)\n",
    "        self.evaluate(CM_test)\n",
    "        \n",
    "        #Return the training probabilities\n",
    "        return train_probability_df"
   ]
  },
  {
   "cell_type": "markdown",
   "metadata": {},
   "source": [
    "### Logistic Regression"
   ]
  },
  {
   "cell_type": "code",
   "execution_count": 96,
   "metadata": {},
   "outputs": [],
   "source": [
    "lr = LoR()\n",
    "logistic_model = Modelling(X_train, X_test, y_train, y_test,\\\n",
    "                          lr, 'Logistic Regression')"
   ]
  },
  {
   "cell_type": "code",
   "execution_count": 98,
   "metadata": {},
   "outputs": [
    {
     "name": "stderr",
     "output_type": "stream",
     "text": [
      "/home/shrikrishna/anaconda3/lib/python3.6/site-packages/sklearn/linear_model/_logistic.py:939: ConvergenceWarning: lbfgs failed to converge (status=1):\n",
      "STOP: TOTAL NO. of ITERATIONS REACHED LIMIT.\n",
      "\n",
      "Increase the number of iterations (max_iter) or scale the data as shown in:\n",
      "    https://scikit-learn.org/stable/modules/preprocessing.html.\n",
      "Please also refer to the documentation for alternative solver options:\n",
      "    https://scikit-learn.org/stable/modules/linear_model.html#logistic-regression\n",
      "  extra_warning_msg=_LOGISTIC_SOLVER_CONVERGENCE_MSG)\n"
     ]
    },
    {
     "data": {
      "image/png": "[encoded data removed]",
      "text/plain": [
       "<Figure size 432x288 with 1 Axes>"
      ]
     },
     "metadata": {
      "needs_background": "light"
     },
     "output_type": "display_data"
    },
    {
     "data": {
      "image/png": "[encoded data removed]",
      "text/plain": [
       "<Figure size 432x288 with 1 Axes>"
      ]
     },
     "metadata": {
      "needs_background": "light"
     },
     "output_type": "display_data"
    },
    {
     "name": "stdout",
     "output_type": "stream",
     "text": [
      "Training Data\n",
      "[[13117     1]\n",
      " [ 3682     0]]\n",
      "Accuracy:- 0.78\n",
      "Precision:- 1.00\n",
      "Recall:- 0.78\n",
      "F-measure:- 0.88\n",
      "Testing Data\n",
      "[[3237    0]\n",
      " [ 963    0]]\n",
      "Accuracy:- 0.77\n",
      "Precision:- 1.00\n",
      "Recall:- 0.77\n",
      "F-measure:- 0.87\n"
     ]
    }
   ],
   "source": [
    "#Prediction\n",
    "train_probabilities = logistic_model.prediction()"
   ]
  },
  {
   "cell_type": "code",
   "execution_count": 85,
   "metadata": {},
   "outputs": [
    {
     "data": {
      "text/html": [
       "<div>\n",
       "<style scoped>\n",
       "    .dataframe tbody tr th:only-of-type {\n",
       "        vertical-align: middle;\n",
       "    }\n",
       "\n",
       "    .dataframe tbody tr th {\n",
       "        vertical-align: top;\n",
       "    }\n",
       "\n",
       "    .dataframe thead th {\n",
       "        text-align: right;\n",
       "    }\n",
       "</style>\n",
       "<table border=\"1\" class=\"dataframe\">\n",
       "  <thead>\n",
       "    <tr style=\"text-align: right;\">\n",
       "      <th></th>\n",
       "      <th>0</th>\n",
       "    </tr>\n",
       "  </thead>\n",
       "  <tbody>\n",
       "    <tr>\n",
       "      <th>0</th>\n",
       "      <td>0.373567</td>\n",
       "    </tr>\n",
       "    <tr>\n",
       "      <th>1</th>\n",
       "      <td>0.247227</td>\n",
       "    </tr>\n",
       "    <tr>\n",
       "      <th>2</th>\n",
       "      <td>0.029061</td>\n",
       "    </tr>\n",
       "    <tr>\n",
       "      <th>3</th>\n",
       "      <td>0.126101</td>\n",
       "    </tr>\n",
       "    <tr>\n",
       "      <th>4</th>\n",
       "      <td>0.286579</td>\n",
       "    </tr>\n",
       "  </tbody>\n",
       "</table>\n",
       "</div>"
      ],
      "text/plain": [
       "          0\n",
       "0  0.373567\n",
       "1  0.247227\n",
       "2  0.029061\n",
       "3  0.126101\n",
       "4  0.286579"
      ]
     },
     "execution_count": 85,
     "metadata": {},
     "output_type": "execute_result"
    }
   ],
   "source": [
    "train_probabilities.head()"
   ]
  },
  {
   "cell_type": "code",
   "execution_count": 107,
   "metadata": {},
   "outputs": [],
   "source": [
    "#Inheritance\n",
    "class Tuning(Modelling):\n",
    "    '''\n",
    "    Inheriting the class Modelling\n",
    "    '''\n",
    "    def __init__(self, X_train, X_test, y_train, y_test):\n",
    "        self.X_train = X_train\n",
    "        self.X_test = X_test\n",
    "        self.y_train = y_train\n",
    "        self.y_test = y_test\n",
    "        \n",
    "        #Create a Modelling object\n",
    "        self.model = Modelling(self.X_train, self.X_test,\\\n",
    "                          self.y_train, self.y_test,\\\n",
    "                          lr, 'Logistic Regression')\n",
    "        \n",
    "        #Probabilites of Events(1s)\n",
    "        self.train_probabilities = self.model.prediction()\n",
    "    \n",
    "    #Predictions with certain threshold\n",
    "    def get_prediction(self, threshold = event_rate):\n",
    "        '''\n",
    "        probabilities:- prediction probabilities\n",
    "        threshold:- threshold value.\n",
    "                Default set to event_rate.\n",
    "        '''\n",
    "        print(\"Threshold is set to %.2f\" %(threshold))\n",
    "        predictions = list(map(lambda x:1 if(x >= threshold) else 0,\\\n",
    "                               self.train_probabilities[0]))\n",
    "        \n",
    "        #Evaluate the predictions\n",
    "        CM = confusion_matrix(self.y_train.ravel(), \\\n",
    "                              predictions, \\\n",
    "                              labels=None, sample_weight=None)\n",
    "        \n",
    "        self.model.evaluate(CM)\n",
    "    "
   ]
  },
  {
   "cell_type": "code",
   "execution_count": 109,
   "metadata": {},
   "outputs": [
    {
     "ename": "AttributeError",
     "evalue": "module 'numpy' has no attribute 'linespace'",
     "output_type": "error",
     "traceback": [
      "\u001b[0;31m---------------------------------------------------------------------------\u001b[0m",
      "\u001b[0;31mAttributeError\u001b[0m                            Traceback (most recent call last)",
      "\u001b[0;32m<ipython-input-109-939352497206>\u001b[0m in \u001b[0;36m<module>\u001b[0;34m\u001b[0m\n\u001b[0;32m----> 1\u001b[0;31m \u001b[0mhelp\u001b[0m\u001b[0;34m(\u001b[0m\u001b[0mnp\u001b[0m\u001b[0;34m.\u001b[0m\u001b[0mlinespace\u001b[0m\u001b[0;34m)\u001b[0m\u001b[0;34m\u001b[0m\u001b[0;34m\u001b[0m\u001b[0m\n\u001b[0m",
      "\u001b[0;31mAttributeError\u001b[0m: module 'numpy' has no attribute 'linespace'"
     ]
    }
   ],
   "source": [
    "help(np.linespace)"
   ]
  },
  {
   "cell_type": "code",
   "execution_count": 108,
   "metadata": {
    "scrolled": true
   },
   "outputs": [
    {
     "name": "stderr",
     "output_type": "stream",
     "text": [
      "/home/shrikrishna/anaconda3/lib/python3.6/site-packages/sklearn/linear_model/_logistic.py:939: ConvergenceWarning: lbfgs failed to converge (status=1):\n",
      "STOP: TOTAL NO. of ITERATIONS REACHED LIMIT.\n",
      "\n",
      "Increase the number of iterations (max_iter) or scale the data as shown in:\n",
      "    https://scikit-learn.org/stable/modules/preprocessing.html.\n",
      "Please also refer to the documentation for alternative solver options:\n",
      "    https://scikit-learn.org/stable/modules/linear_model.html#logistic-regression\n",
      "  extra_warning_msg=_LOGISTIC_SOLVER_CONVERGENCE_MSG)\n"
     ]
    },
    {
     "data": {
      "image/png": "[encoded data removed]",
      "text/plain": [
       "<Figure size 432x288 with 1 Axes>"
      ]
     },
     "metadata": {
      "needs_background": "light"
     },
     "output_type": "display_data"
    },
    {
     "data": {
      "image/png": "[encoded data removed]",
      "text/plain": [
       "<Figure size 432x288 with 1 Axes>"
      ]
     },
     "metadata": {
      "needs_background": "light"
     },
     "output_type": "display_data"
    },
    {
     "name": "stdout",
     "output_type": "stream",
     "text": [
      "Training Data\n",
      "[[13117     1]\n",
      " [ 3682     0]]\n",
      "Accuracy:- 0.78\n",
      "Precision:- 1.00\n",
      "Recall:- 0.78\n",
      "F-measure:- 0.88\n",
      "Testing Data\n",
      "[[3237    0]\n",
      " [ 963    0]]\n",
      "Accuracy:- 0.77\n",
      "Precision:- 1.00\n",
      "Recall:- 0.77\n",
      "F-measure:- 0.87\n",
      "Threshold is set to 0.22\n",
      "[[5790 7328]\n",
      " [ 849 2833]]\n",
      "Accuracy:- 0.51\n",
      "Precision:- 0.44\n",
      "Recall:- 0.87\n",
      "F-measure:- 0.59\n"
     ]
    }
   ],
   "source": [
    "tuning = Tuning(X_train, X_test, y_train, y_test)\n",
    "\n",
    "#Set the threshold\n",
    "tuning.get_prediction()"
   ]
  },
  {
   "cell_type": "code",
   "execution_count": 205,
   "metadata": {},
   "outputs": [
    {
     "name": "stdout",
     "output_type": "stream",
     "text": [
      "      ID  default_payment_next_month\n",
      "0  10178                    0.427110\n",
      "1   5304                    0.136008\n",
      "2   5187                    0.183633\n",
      "3  14495                    0.303057\n",
      "4  20444                    0.207182\n"
     ]
    }
   ],
   "source": [
    "#Load the model\n",
    "model = joblib.load(os.getcwd() + \"/Models/Logistic Regression.pkl\")\n",
    "\n",
    "#Obtain the prediction probabilities on original test set\n",
    "predicted_probability = model.predict_proba(test_data[independent_int_cols])\n",
    "\n",
    "#Save the predicted probailities\n",
    "probability_df = pd.DataFrame(predicted_probability[::, 1])\n",
    "\n",
    "probability_df['ID'] = test_data['ID']\n",
    "probability_df = probability_df.rename(columns = {0: target})\n",
    "\n",
    "print(probability_df[['ID', target]].head())\n",
    "probability_df[['ID', target]].to_csv(os.getcwd() + \"/Models/predicted_probabilities.csv\")"
   ]
  },
  {
   "cell_type": "code",
   "execution_count": 193,
   "metadata": {},
   "outputs": [
    {
     "data": {
      "text/html": [
       "<div>\n",
       "<style scoped>\n",
       "    .dataframe tbody tr th:only-of-type {\n",
       "        vertical-align: middle;\n",
       "    }\n",
       "\n",
       "    .dataframe tbody tr th {\n",
       "        vertical-align: top;\n",
       "    }\n",
       "\n",
       "    .dataframe thead th {\n",
       "        text-align: right;\n",
       "    }\n",
       "</style>\n",
       "<table border=\"1\" class=\"dataframe\">\n",
       "  <thead>\n",
       "    <tr style=\"text-align: right;\">\n",
       "      <th></th>\n",
       "      <th>PAY_2</th>\n",
       "      <th>BILL_AMT1</th>\n",
       "      <th>BILL_AMT5</th>\n",
       "      <th>PAY_6</th>\n",
       "      <th>PAY_0</th>\n",
       "      <th>PAY_3</th>\n",
       "      <th>AGE</th>\n",
       "      <th>BILL_AMT2</th>\n",
       "      <th>Total_Bill_Amount</th>\n",
       "      <th>PAY_AMT5</th>\n",
       "      <th>...</th>\n",
       "      <th>PAY_AMT4</th>\n",
       "      <th>PAY_AMT6</th>\n",
       "      <th>PAY_4</th>\n",
       "      <th>PAY_5</th>\n",
       "      <th>PAY_AMT2</th>\n",
       "      <th>LIMIT_BAL</th>\n",
       "      <th>BILL_AMT6</th>\n",
       "      <th>PAY_AMT1</th>\n",
       "      <th>Total_Pay_Amount</th>\n",
       "      <th>PAY_AMT3</th>\n",
       "    </tr>\n",
       "  </thead>\n",
       "  <tbody>\n",
       "    <tr>\n",
       "      <th>0</th>\n",
       "      <td>0</td>\n",
       "      <td>36082</td>\n",
       "      <td>38667</td>\n",
       "      <td>0</td>\n",
       "      <td>0</td>\n",
       "      <td>0</td>\n",
       "      <td>30</td>\n",
       "      <td>37127</td>\n",
       "      <td>228411</td>\n",
       "      <td>1520</td>\n",
       "      <td>...</td>\n",
       "      <td>1403</td>\n",
       "      <td>1205</td>\n",
       "      <td>0</td>\n",
       "      <td>0</td>\n",
       "      <td>1618</td>\n",
       "      <td>60000</td>\n",
       "      <td>39544</td>\n",
       "      <td>1628</td>\n",
       "      <td>8749</td>\n",
       "      <td>1375</td>\n",
       "    </tr>\n",
       "    <tr>\n",
       "      <th>1</th>\n",
       "      <td>0</td>\n",
       "      <td>61099</td>\n",
       "      <td>50292</td>\n",
       "      <td>0</td>\n",
       "      <td>0</td>\n",
       "      <td>0</td>\n",
       "      <td>29</td>\n",
       "      <td>64160</td>\n",
       "      <td>356642</td>\n",
       "      <td>5739</td>\n",
       "      <td>...</td>\n",
       "      <td>0</td>\n",
       "      <td>12050</td>\n",
       "      <td>0</td>\n",
       "      <td>2</td>\n",
       "      <td>14593</td>\n",
       "      <td>200000</td>\n",
       "      <td>10510</td>\n",
       "      <td>4160</td>\n",
       "      <td>56692</td>\n",
       "      <td>20150</td>\n",
       "    </tr>\n",
       "    <tr>\n",
       "      <th>2</th>\n",
       "      <td>0</td>\n",
       "      <td>38395</td>\n",
       "      <td>0</td>\n",
       "      <td>-2</td>\n",
       "      <td>0</td>\n",
       "      <td>0</td>\n",
       "      <td>39</td>\n",
       "      <td>39943</td>\n",
       "      <td>98988</td>\n",
       "      <td>0</td>\n",
       "      <td>...</td>\n",
       "      <td>0</td>\n",
       "      <td>0</td>\n",
       "      <td>0</td>\n",
       "      <td>-2</td>\n",
       "      <td>2000</td>\n",
       "      <td>230000</td>\n",
       "      <td>0</td>\n",
       "      <td>2500</td>\n",
       "      <td>4500</td>\n",
       "      <td>0</td>\n",
       "    </tr>\n",
       "    <tr>\n",
       "      <th>3</th>\n",
       "      <td>0</td>\n",
       "      <td>152175</td>\n",
       "      <td>142745</td>\n",
       "      <td>0</td>\n",
       "      <td>0</td>\n",
       "      <td>0</td>\n",
       "      <td>40</td>\n",
       "      <td>148872</td>\n",
       "      <td>876433</td>\n",
       "      <td>6500</td>\n",
       "      <td>...</td>\n",
       "      <td>5200</td>\n",
       "      <td>7200</td>\n",
       "      <td>0</td>\n",
       "      <td>0</td>\n",
       "      <td>5245</td>\n",
       "      <td>150000</td>\n",
       "      <td>146872</td>\n",
       "      <td>5800</td>\n",
       "      <td>35145</td>\n",
       "      <td>5200</td>\n",
       "    </tr>\n",
       "    <tr>\n",
       "      <th>4</th>\n",
       "      <td>0</td>\n",
       "      <td>80210</td>\n",
       "      <td>78953</td>\n",
       "      <td>0</td>\n",
       "      <td>0</td>\n",
       "      <td>0</td>\n",
       "      <td>27</td>\n",
       "      <td>67746</td>\n",
       "      <td>462941</td>\n",
       "      <td>5000</td>\n",
       "      <td>...</td>\n",
       "      <td>3260</td>\n",
       "      <td>3000</td>\n",
       "      <td>0</td>\n",
       "      <td>0</td>\n",
       "      <td>10000</td>\n",
       "      <td>140000</td>\n",
       "      <td>81848</td>\n",
       "      <td>10000</td>\n",
       "      <td>34653</td>\n",
       "      <td>3393</td>\n",
       "    </tr>\n",
       "  </tbody>\n",
       "</table>\n",
       "<p>5 rows × 22 columns</p>\n",
       "</div>"
      ],
      "text/plain": [
       "   PAY_2  BILL_AMT1  BILL_AMT5  PAY_6  PAY_0  PAY_3  AGE  BILL_AMT2  \\\n",
       "0      0      36082      38667      0      0      0   30      37127   \n",
       "1      0      61099      50292      0      0      0   29      64160   \n",
       "2      0      38395          0     -2      0      0   39      39943   \n",
       "3      0     152175     142745      0      0      0   40     148872   \n",
       "4      0      80210      78953      0      0      0   27      67746   \n",
       "\n",
       "   Total_Bill_Amount  PAY_AMT5  ...  PAY_AMT4  PAY_AMT6  PAY_4  PAY_5  \\\n",
       "0             228411      1520  ...      1403      1205      0      0   \n",
       "1             356642      5739  ...         0     12050      0      2   \n",
       "2              98988         0  ...         0         0      0     -2   \n",
       "3             876433      6500  ...      5200      7200      0      0   \n",
       "4             462941      5000  ...      3260      3000      0      0   \n",
       "\n",
       "   PAY_AMT2  LIMIT_BAL  BILL_AMT6  PAY_AMT1  Total_Pay_Amount  PAY_AMT3  \n",
       "0      1618      60000      39544      1628              8749      1375  \n",
       "1     14593     200000      10510      4160             56692     20150  \n",
       "2      2000     230000          0      2500              4500         0  \n",
       "3      5245     150000     146872      5800             35145      5200  \n",
       "4     10000     140000      81848     10000             34653      3393  \n",
       "\n",
       "[5 rows x 22 columns]"
      ]
     },
     "execution_count": 193,
     "metadata": {},
     "output_type": "execute_result"
    }
   ],
   "source": [
    "test_data[independent_int_cols].head()"
   ]
  },
  {
   "cell_type": "markdown",
   "metadata": {},
   "source": [
    "### Random Forest"
   ]
  },
  {
   "cell_type": "code",
   "execution_count": null,
   "metadata": {},
   "outputs": [],
   "source": []
  },
  {
   "cell_type": "code",
   "execution_count": null,
   "metadata": {},
   "outputs": [],
   "source": []
  }
 ],
 "metadata": {
  "kernelspec": {
   "display_name": "Python 3",
   "language": "python",
   "name": "python3"
  },
  "language_info": {
   "codemirror_mode": {
    "name": "ipython",
    "version": 3
   },
   "file_extension": ".py",
   "mimetype": "text/x-python",
   "name": "python",
   "nbconvert_exporter": "python",
   "pygments_lexer": "ipython3",
   "version": "3.6.9"
  }
 },
 "nbformat": 4,
 "nbformat_minor": 2
}
